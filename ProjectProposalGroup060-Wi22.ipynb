{
 "cells": [
  {
   "cell_type": "markdown",
   "metadata": {},
   "source": [
    "# COGS 108 - Final Project Proposal"
   ]
  },
  {
   "cell_type": "markdown",
   "metadata": {},
   "source": [
    "# Names\n",
    "\n",
    "- Zhaoyi Yu\n",
    "- Zhuoran Li\n",
    "- Zecheng Li\n",
    "- Gao Mo"
   ]
  },
  {
   "cell_type": "markdown",
   "metadata": {},
   "source": [
    "# Research Question"
   ]
  },
  {
   "cell_type": "markdown",
   "metadata": {},
   "source": [
    "Is obesity associated with one’s mental health, income, and happiness? \n",
    "Which of the three factors contribute more to the likelihood of suffering from obesity?"
   ]
  },
  {
   "cell_type": "markdown",
   "metadata": {},
   "source": [
    "## Background and Prior Work"
   ]
  },
  {
   "cell_type": "markdown",
   "metadata": {},
   "source": [
    "While we were scrolling through numerous datasets, we stumbled upon a particular one that allows us to visually interpret the obesity rate among countries. We noticed that while some countries are known for high obesity rates due to their love of processed food, other countries' rates are quite intriguing in terms of their variations on high and low obesity rates in both developed and developing countries. While we know for a fact that obesity is linked to an individual's dietary habits, exercise routines, and lifestyles, we are interested in analyzing the obesity rate’s correlation to other aspects on a country-wide level. For example, we want to depict how would high/low income effects one tendency to get obese, or how would mental health be a contributing factor to gaining extra weight. For this project, we will be using datas on mental health rate, average household income to compare with a country’s obesity rate. \n",
    "\n",
    "\n",
    "Similar studies as ours have been conducted before. According to a study published by International Journal of Environmental Research and Public Health on June 12th, 2020, which sampled 100 adults in Spain to experiment whether their positivity, and happiness, along with other aspects, would lead to obesity. The result appeared to be that individuals who show significantly lower happiness, as well as body satisfaction in their ordinary lives, are more susceptible to obesity and overweight. However, positivity seems to remain unaffectable to their health.  Additionally, another study published by National Center for Health Statistics in December, 2020, which utilized the data from the National Health and Nutrition Examination Survey, claimed that obesity prevalence appears to be similar among all income levels. However, this observation only applies to men. On the contrary, data collected from women shows a negative relationship between the likelihood of obesity and their income level.  Last but not the least, a study done by Merrill Littleberry in December, 2017 supports the fact that mental health is indeed associated with obesity. \n",
    "\n",
    "While two of the studies showed the relationship indeed exists, one of them claimed the opposite results from the previous two. Hence, our study will be aimed to combine the results from all three studies and try to come up with an accurate conclusion of how much each aspect contributes to the likelihood of obesity. \n",
    "\n",
    "References: \n",
    "             -1):https://www.ncbi.nlm.nih.gov/pmc/articles/PMC7344457/#:~:text=In%20addition%2C%20individuals%20with%20obesity,with%20obesity%20or%20with%20overweight.\n",
    "-2):https://www.cdc.gov/nchs/products/databriefs/db50.htm#:~:text=Among%20men%2C%20obesity%20prevalence%20is,%25%20of%20the%20poverty%20level).\n",
    "-3):https://www.obesityaction.org/resources/obesity-and-mental-health-is-there-a-link/\n"
   ]
  },
  {
   "cell_type": "markdown",
   "metadata": {},
   "source": [
    "# Hypothesis\n"
   ]
  },
  {
   "cell_type": "markdown",
   "metadata": {},
   "source": [
    "We hypothesize in our study that obesity is related with one’s mental health, income, and happiness. To be specific, we believe that an individual who does not suffer from mental illness, has steady and adequate income, and is happy, is least likely to deal with obesity in his or her life. \n"
   ]
  },
  {
   "cell_type": "markdown",
   "metadata": {},
   "source": [
    "# Data"
   ]
  },
  {
   "cell_type": "markdown",
   "metadata": {},
   "source": [
    "We want to find country-based datasets to eliminate the cultural differences from the equation. To explore the relationship between obesity, mental health, income, and happiness of people in different countries, we need four different variables: weight, mental health condition, happiness score, and revenue by country. \n",
    "For income and obesity, we should gather the mean, median, and standard deviation of people's weight and revenue in diverse countries. \n",
    "For mental health and happiness scores which are two broad concepts, factors such as suicide rates can give us straightforward information and an intuitive sense. Surveys asking people from varied countries to rate their happiness score will also be helpful. \n",
    "Given that the more observations we collected, the better our results will be. We need to collect as much data as possible. There are 198 countries, so we need at least 150 countries to do the analysis. Plus, to make our results more reliable, we should gather information over a twenty or thirty years time period. So in total we will have approximately 3750 observations.  \n",
    "The website Kaggle can provide us with many usable datasets and information. The ideal case is that the data is stored in organized form or dataframe in a csv file.\n"
   ]
  },
  {
   "cell_type": "markdown",
   "metadata": {},
   "source": [
    "# Ethics & Privacy"
   ]
  },
  {
   "cell_type": "markdown",
   "metadata": {},
   "source": [
    "All of our datasets come from public sources such as Kaggle (https://www.kaggle.com), a subsidiary of Google Inc. and an online community that allows users to replicate, revise, distribute, and perform on datasets without asking for permission.\n",
    "\n",
    "Since we want to estimate the relationship between obesity and happiness, we need data from the World Happiness Dataset, and the World Obesity Dataset.. Such data may be recognized by governments worldwide, so to some extent, we ensure that the dataset is representative. However, there may be selection bias in responding to the survey and the sample space may not be representative of the entire population of the country, which may have an impact on our results and lead to bias. Therefore, we will inform our audience to be aware of possible biases.\n",
    "\n",
    "The second dataset we are willing to use is mental health and suicide rates because we want to figure out the relationship between obesity and mental health. However, if there is some bias in the dataset, it can lead to misleading results. Therefore, we will tell our readers about the potential bias.\n",
    "\n",
    "We are also wondering if there might be some association between obesity and income levels. We will look at government-collected household income data (from U.S. Census reports or .gov) to ensure they are authoritative and representative.\n",
    "\n",
    "Finally, our dataset does not include any personal information, so people's confidentiality is not at risk. All data will be normalized for comparison and modeling purposes, so we will not add more weight to certain regions or countries.\n"
   ]
  },
  {
   "cell_type": "markdown",
   "metadata": {},
   "source": [
    "# Team Expectations "
   ]
  },
  {
   "cell_type": "markdown",
   "metadata": {},
   "source": [
    "Our team’s expectations are as follows. \n",
    "- We will divide and conquer the work based on our team members’ expertise\n",
    "- we will also proofread everything as a team and decide if anything needs any modifications to improve clarity\n",
    "- we will keep each other informed about the progress of this project. \n",
    "- For our team specifically, we will be communicating through zoom and discord.  \n",
    "- After week 4, we will hold in-person meetings preferably on campus, and if there’s a conflict likely due to Covid-19, we will move our in-person meeting to the UTC area since we all live pretty nearby each other. \n"
   ]
  },
  {
   "cell_type": "markdown",
   "metadata": {},
   "source": [
    "# Project Timeline Proposal"
   ]
  },
  {
   "cell_type": "markdown",
   "metadata": {},
   "source": [
    "| Meeting Date  | Meeting Time| Completed Before Meeting  | Discuss at Meeting |\n",
    "|---|---|---|---|\n",
    "| 1/20  |  2 PM | Read & Think about COGS 108 expectations; brainstorm topics/questions  | Determine best form of communication; Discuss and decide on final project topic; discuss hypothesis; begin background research | \n",
    "| 1/28  |  2 pm |  Do background research on topic | Discuss ideal dataset(s) and ethics; draft project proposal | \n",
    "| 2/3  | 2 pm | Edit, finalize, and submit proposal; Search for datasets  | Discuss Wrangling and possible analytical approaches; Assign group members to lead each specific part   |\n",
    "| 2/10  | 2 pm  | Import & Wrangle Data (Gao; Zhuoran); EDA (Gao; Zhuoran) | Review/Edit wrangling/EDA; Discuss Analysis Plan   |\n",
    "| 2/23  | 2 pm  | Finalize wrangling/EDA; Begin Analysis (Zhaoyi; Zecheng) | Discuss/edit Analysis; Complete project check-in |\n",
    "| 3/13  | 2 PM  | Complete analysis; Draft results/conclusion/discussion (Gao,Zhuoran,Zhaoyi,Zecheng)| Discuss/edit full project |\n",
    "| 3/18  | 2pm | NA | Turn in Final Project & Group Project Surveys |"
   ]
  },
  {
   "cell_type": "code",
   "execution_count": null,
   "metadata": {},
   "outputs": [],
   "source": []
  }
 ],
 "metadata": {
  "kernelspec": {
   "display_name": "Python 3",
   "language": "python",
   "name": "python3"
  },
  "language_info": {
   "codemirror_mode": {
    "name": "ipython",
    "version": 3
   },
   "file_extension": ".py",
   "mimetype": "text/x-python",
   "name": "python",
   "nbconvert_exporter": "python",
   "pygments_lexer": "ipython3",
   "version": "3.7.6"
  }
 },
 "nbformat": 4,
 "nbformat_minor": 2
}
