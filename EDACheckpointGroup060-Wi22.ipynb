{
 "cells": [
  {
   "cell_type": "markdown",
   "metadata": {},
   "source": [
    "# COGS 108 - EDA Checkpoint"
   ]
  },
  {
   "cell_type": "markdown",
   "metadata": {},
   "source": [
    "# Names\n",
    "\n",
    "- Zhuoran Li\n",
    "- Zhaoyi Yu\n",
    "- Zecheng Li\n",
    "- Gao Mo"
   ]
  },
  {
   "cell_type": "markdown",
   "metadata": {},
   "source": [
    "<a id='research_question'></a>\n",
    "# Research Question"
   ]
  },
  {
   "cell_type": "markdown",
   "metadata": {},
   "source": [
    "Obesity is a topic that has been on the rise recently as people are becoming more and more concerned about their health. Are obesity rates related to people's living conditions? Here, we consider living conditions as determined by people's income levels, employment status, and weather conditions as indicated by the latitude and longitude of the United States. We used each U.S. state as a unit and collected data from each state over years to examine the factors influencing obesity."
   ]
  },
  {
   "cell_type": "markdown",
   "metadata": {},
   "source": [
    "# Setup"
   ]
  },
  {
   "cell_type": "code",
   "execution_count": 1,
   "metadata": {},
   "outputs": [
    {
     "name": "stderr",
     "output_type": "stream",
     "text": [
      "/Users/gaomo/opt/anaconda3/lib/python3.7/site-packages/geopandas/_compat.py:115: UserWarning: The Shapely GEOS version (3.9.1-CAPI-1.14.2) is incompatible with the GEOS version PyGEOS was compiled with (3.10.1-CAPI-1.16.0). Conversions between both will be slow.\n",
      "  shapely_geos_version, geos_capi_version_string\n"
     ]
    }
   ],
   "source": [
    "%matplotlib inline\n",
    "import pandas as pd \n",
    "import openpyxl\n",
    "import os \n",
    "import numpy as np\n",
    "import requests\n",
    "import geopandas as gpd\n",
    "import patsy\n",
    "import statsmodels.api as sm\n",
    "import scipy.stats as stats\n",
    "from scipy.stats import ttest_ind, chisquare, normaltest\n",
    "import seaborn as sns\n",
    "import matplotlib.pyplot as plt"
   ]
  },
  {
   "cell_type": "markdown",
   "metadata": {},
   "source": [
    "# Data Cleaning"
   ]
  },
  {
   "cell_type": "markdown",
   "metadata": {},
   "source": [
    "# Datasets：\n",
    "Dataset Name: `US Unemployment Rate by County, 1990-2016`\n",
    "- Link to the dataset: https://www.kaggle.com/jayrav13/unemployment-by-county-us?select=output.csv\n",
    "- Number of observations: 885548\n",
    "- Description: The  US Unemployment Rate by County dataset represents the Unemployment Statistics of USA from 1990-2016, broken down by state and month. \n",
    "\n",
    "Dataset Name: `United States Mental Illness Rate`\n",
    "- Link to the dataset： https://www.kaggle.com/bobnis/us-stats-meillness\n",
    "- Number of observations: First Dataset: 500000; Second Dataset: 500000\n",
    "- Description: The United States Mental Illness Rate dataset shows the proportion of American people getting mental illness, such as depression and bipolar, broken down by ethnicity, state and gender.\n",
    "\n",
    "Dataset Name: `Household median income, 2003 - 2016`\n",
    "- Link to the dataset： https://www.census.gov/data/tables/time-series/demo/income-poverty/historical-income-households.html\n",
    "- Number of observations: 52 observations per year, 728 observations in total\n",
    "- Description: The Household median income dataset contains the median household level of income for all states in US ranging from the year 2003 to 2016.\n",
    "\n",
    "Dataset Name: `Adult Obesity Rate by State, 2003 - 2020`\n",
    "- Link to the dataset：https://stateofchildhoodobesity.org/adult-obesity/\n",
    "- Number of observations: 51 observations per year, 867 observations in total\n",
    "- obesity rate： The state-by-state adult obesity rate data set is collected by the `National Obesity Monitor`, which gathers data on obesity rates in each state over years.\n",
    "\n",
    "Dataset Name: `Weather CSV File`\n",
    "- Link to the dataset: https://corgis-edu.github.io/corgis/csv/weather/\n",
    "- Number of observations: 16742\n",
    "- Description: The National Weather Service, which is part of the National Oceanic and Atmospheric Administration, offers daily weather updates for cities all around the country. This is accomplished by utilizing 122 different Weather Forecast Offices across the country. These WFOs are in charge of providing daily weather reports for a number of cities in their service area. This data set includes information from WFO reports for cities around the country on a weekly basis for the entire year of 2016.\n",
    "\n",
    "Dataset Name: `Latitude and Longitude for Every Country and State`\n",
    "- Link to the dataset: https://www.kaggle.com/paultimothymooney/latitude-and-longitude-for-every-country-and-state\n",
    "- Number of observations: 55\n",
    "- Description: The Latitude and Longitude dataset dataset contains the latitude/longitude data corresponding to the countries and states in the United States. We will be using the geological information in this dataset as an indicator of the climate condition separated by states in the United States.\n",
    "\n",
    "\n",
    "Dataset Name: `State Population Totals: 2010-2019`\n",
    "- Link to the dataset: https://www.census.gov/data/datasets/time-series/demo/popest/2010s-state-total.html\n",
    "- Number of observations: 57\n",
    "- Description: The  dataset State Population dataset contains the population totals in the year 2019 of all states in the US. We will be using this data to normalize some of our other datasets so we can better compare how each facet of living condition affect the chance of obesity."
   ]
  },
  {
   "cell_type": "markdown",
   "metadata": {},
   "source": [
    "#### importing  files"
   ]
  },
  {
   "cell_type": "code",
   "execution_count": 2,
   "metadata": {},
   "outputs": [],
   "source": [
    "income = pd.read_csv('household_income.csv')\n",
    "mental_1 = pd.read_csv('mentalillness_data1.csv')\n",
    "mental_2 = pd.read_csv('mentalillness_data2.csv')\n",
    "unemployment = pd.read_csv('unemployment.csv')\n",
    "states_bound = gpd.read_file('cb_2018_us_state_500k.shp')\n",
    "states_weather = pd.read_csv('weather.csv')\n",
    "population = pd.read_csv('nst-est2019-alldata.csv')\n",
    "obesity_raw = pd.read_excel('obesity rate.xlsx', engine = 'openpyxl', sheet_name = 'Adult Obesity Rate by State')"
   ]
  },
  {
   "cell_type": "markdown",
   "metadata": {},
   "source": [
    "## Yearly State Obesity Rate Cleaning"
   ]
  },
  {
   "cell_type": "markdown",
   "metadata": {},
   "source": [
    "Original dataset:"
   ]
  },
  {
   "cell_type": "code",
   "execution_count": 3,
   "metadata": {},
   "outputs": [
    {
     "data": {
      "text/html": [
       "<div>\n",
       "<style scoped>\n",
       "    .dataframe tbody tr th:only-of-type {\n",
       "        vertical-align: middle;\n",
       "    }\n",
       "\n",
       "    .dataframe tbody tr th {\n",
       "        vertical-align: top;\n",
       "    }\n",
       "\n",
       "    .dataframe thead th {\n",
       "        text-align: right;\n",
       "    }\n",
       "</style>\n",
       "<table border=\"1\" class=\"dataframe\">\n",
       "  <thead>\n",
       "    <tr style=\"text-align: right;\">\n",
       "      <th></th>\n",
       "      <th>Unnamed: 0</th>\n",
       "      <th>States 2020</th>\n",
       "      <th>Adult Obesity Rate 2020</th>\n",
       "      <th>States 2019</th>\n",
       "      <th>Adult Obesity Rate 2019</th>\n",
       "      <th>States 2018</th>\n",
       "      <th>Adult Obesity Rate 2018</th>\n",
       "      <th>States 2017</th>\n",
       "      <th>Adult Obesity Rate 2017</th>\n",
       "      <th>States 2016</th>\n",
       "      <th>...</th>\n",
       "      <th>States 2007</th>\n",
       "      <th>Adult Obesity Rate 2007</th>\n",
       "      <th>States 2006</th>\n",
       "      <th>Adult Obesity Rate 2006</th>\n",
       "      <th>States 2005</th>\n",
       "      <th>Adult Obesity Rate 2005</th>\n",
       "      <th>States 2004</th>\n",
       "      <th>Adult Obesity Rate 2004</th>\n",
       "      <th>States 2003</th>\n",
       "      <th>Adult Obesity Rate 2003</th>\n",
       "    </tr>\n",
       "  </thead>\n",
       "  <tbody>\n",
       "    <tr>\n",
       "      <th>0</th>\n",
       "      <td>1</td>\n",
       "      <td>YMississippi</td>\n",
       "      <td>0.397</td>\n",
       "      <td>YMississippi</td>\n",
       "      <td>0.408</td>\n",
       "      <td>YMississippi</td>\n",
       "      <td>0.395</td>\n",
       "      <td>YMississippi</td>\n",
       "      <td>0.373</td>\n",
       "      <td>YMississippi</td>\n",
       "      <td>...</td>\n",
       "      <td>YMississippi</td>\n",
       "      <td>0.317</td>\n",
       "      <td>YMississippi</td>\n",
       "      <td>0.306</td>\n",
       "      <td>YMississippi</td>\n",
       "      <td>0.295</td>\n",
       "      <td>YMississippi</td>\n",
       "      <td>0.281</td>\n",
       "      <td>YMississippi</td>\n",
       "      <td>0.281</td>\n",
       "    </tr>\n",
       "    <tr>\n",
       "      <th>1</th>\n",
       "      <td>2</td>\n",
       "      <td>wWest Virginia</td>\n",
       "      <td>0.391</td>\n",
       "      <td>wWest Virginia</td>\n",
       "      <td>0.397</td>\n",
       "      <td>wWest Virginia</td>\n",
       "      <td>0.395</td>\n",
       "      <td>wWest Virginia</td>\n",
       "      <td>0.381</td>\n",
       "      <td>wWest Virginia</td>\n",
       "      <td>...</td>\n",
       "      <td>wWest Virginia</td>\n",
       "      <td>0.306</td>\n",
       "      <td>wWest Virginia</td>\n",
       "      <td>0.298</td>\n",
       "      <td>wWest Virginia</td>\n",
       "      <td>0.286</td>\n",
       "      <td>wWest Virginia</td>\n",
       "      <td>0.276</td>\n",
       "      <td>wWest Virginia</td>\n",
       "      <td>0.277</td>\n",
       "    </tr>\n",
       "    <tr>\n",
       "      <th>2</th>\n",
       "      <td>3</td>\n",
       "      <td>BAlabama</td>\n",
       "      <td>0.390</td>\n",
       "      <td>BAlabama</td>\n",
       "      <td>0.361</td>\n",
       "      <td>BAlabama</td>\n",
       "      <td>0.362</td>\n",
       "      <td>BAlabama</td>\n",
       "      <td>0.363</td>\n",
       "      <td>BAlabama</td>\n",
       "      <td>...</td>\n",
       "      <td>BAlabama</td>\n",
       "      <td>0.301</td>\n",
       "      <td>BAlabama</td>\n",
       "      <td>0.294</td>\n",
       "      <td>BAlabama</td>\n",
       "      <td>0.287</td>\n",
       "      <td>BAlabama</td>\n",
       "      <td>0.277</td>\n",
       "      <td>BAlabama</td>\n",
       "      <td>0.284</td>\n",
       "    </tr>\n",
       "    <tr>\n",
       "      <th>3</th>\n",
       "      <td>4</td>\n",
       "      <td>RLouisiana</td>\n",
       "      <td>0.381</td>\n",
       "      <td>RLouisiana</td>\n",
       "      <td>0.359</td>\n",
       "      <td>RLouisiana</td>\n",
       "      <td>0.368</td>\n",
       "      <td>RLouisiana</td>\n",
       "      <td>0.362</td>\n",
       "      <td>RLouisiana</td>\n",
       "      <td>...</td>\n",
       "      <td>RLouisiana</td>\n",
       "      <td>0.295</td>\n",
       "      <td>RLouisiana</td>\n",
       "      <td>0.282</td>\n",
       "      <td>RLouisiana</td>\n",
       "      <td>0.274</td>\n",
       "      <td>RLouisiana</td>\n",
       "      <td>0.258</td>\n",
       "      <td>RLouisiana</td>\n",
       "      <td>0.248</td>\n",
       "    </tr>\n",
       "    <tr>\n",
       "      <th>4</th>\n",
       "      <td>5</td>\n",
       "      <td>OIndiana</td>\n",
       "      <td>0.368</td>\n",
       "      <td>OIndiana</td>\n",
       "      <td>0.353</td>\n",
       "      <td>OIndiana</td>\n",
       "      <td>0.341</td>\n",
       "      <td>OIndiana</td>\n",
       "      <td>0.336</td>\n",
       "      <td>OIndiana</td>\n",
       "      <td>...</td>\n",
       "      <td>OIndiana</td>\n",
       "      <td>0.275</td>\n",
       "      <td>OIndiana</td>\n",
       "      <td>0.268</td>\n",
       "      <td>OIndiana</td>\n",
       "      <td>0.262</td>\n",
       "      <td>OIndiana</td>\n",
       "      <td>0.252</td>\n",
       "      <td>OIndiana</td>\n",
       "      <td>0.260</td>\n",
       "    </tr>\n",
       "  </tbody>\n",
       "</table>\n",
       "<p>5 rows × 37 columns</p>\n",
       "</div>"
      ],
      "text/plain": [
       "   Unnamed: 0     States 2020  Adult Obesity Rate 2020     States 2019  \\\n",
       "0           1    YMississippi                    0.397    YMississippi   \n",
       "1           2  wWest Virginia                    0.391  wWest Virginia   \n",
       "2           3        BAlabama                    0.390        BAlabama   \n",
       "3           4      RLouisiana                    0.381      RLouisiana   \n",
       "4           5        OIndiana                    0.368        OIndiana   \n",
       "\n",
       "   Adult Obesity Rate 2019     States 2018  Adult Obesity Rate 2018  \\\n",
       "0                    0.408    YMississippi                    0.395   \n",
       "1                    0.397  wWest Virginia                    0.395   \n",
       "2                    0.361        BAlabama                    0.362   \n",
       "3                    0.359      RLouisiana                    0.368   \n",
       "4                    0.353        OIndiana                    0.341   \n",
       "\n",
       "      States 2017  Adult Obesity Rate 2017     States 2016  ...  \\\n",
       "0    YMississippi                    0.373    YMississippi  ...   \n",
       "1  wWest Virginia                    0.381  wWest Virginia  ...   \n",
       "2        BAlabama                    0.363        BAlabama  ...   \n",
       "3      RLouisiana                    0.362      RLouisiana  ...   \n",
       "4        OIndiana                    0.336        OIndiana  ...   \n",
       "\n",
       "      States 2007 Adult Obesity Rate 2007     States 2006  \\\n",
       "0    YMississippi                   0.317    YMississippi   \n",
       "1  wWest Virginia                   0.306  wWest Virginia   \n",
       "2        BAlabama                   0.301        BAlabama   \n",
       "3      RLouisiana                   0.295      RLouisiana   \n",
       "4        OIndiana                   0.275        OIndiana   \n",
       "\n",
       "  Adult Obesity Rate 2006     States 2005 Adult Obesity Rate 2005  \\\n",
       "0                   0.306    YMississippi                   0.295   \n",
       "1                   0.298  wWest Virginia                   0.286   \n",
       "2                   0.294        BAlabama                   0.287   \n",
       "3                   0.282      RLouisiana                   0.274   \n",
       "4                   0.268        OIndiana                   0.262   \n",
       "\n",
       "      States 2004 Adult Obesity Rate 2004     States 2003  \\\n",
       "0    YMississippi                   0.281    YMississippi   \n",
       "1  wWest Virginia                   0.276  wWest Virginia   \n",
       "2        BAlabama                   0.277        BAlabama   \n",
       "3      RLouisiana                   0.258      RLouisiana   \n",
       "4        OIndiana                   0.252        OIndiana   \n",
       "\n",
       "  Adult Obesity Rate 2003  \n",
       "0                   0.281  \n",
       "1                   0.277  \n",
       "2                   0.284  \n",
       "3                   0.248  \n",
       "4                   0.260  \n",
       "\n",
       "[5 rows x 37 columns]"
      ]
     },
     "execution_count": 3,
     "metadata": {},
     "output_type": "execute_result"
    }
   ],
   "source": [
    "obesity_raw.head()"
   ]
  },
  {
   "cell_type": "markdown",
   "metadata": {},
   "source": [
    "We web scripted the obesity rate data of each state from year 2003 to the year of 2020 from https://stateofchildhoodobesity.org/adult-obesity/ into obesity_raw excel data. First, we drop all rows with NaN values and use the `apply` method to clean up the data for each state to make it readable. Then, we combine the data for each year using the `groupby` method to get the obesity rates for each state and its years, and store them in `dict`. Finally, we used `pandas.DataFrame` to transform `dict` into a pandas data frame and thus finished cleaning the obesity data. In the end, we kept the data from 2003 - 2016 due to the limited data from other datasets that will be merged with this dataset later."
   ]
  },
  {
   "cell_type": "code",
   "execution_count": 4,
   "metadata": {
    "scrolled": true
   },
   "outputs": [
    {
     "name": "stderr",
     "output_type": "stream",
     "text": [
      "/Users/gaomo/opt/anaconda3/lib/python3.7/site-packages/ipykernel_launcher.py:16: SettingWithCopyWarning: \n",
      "A value is trying to be set on a copy of a slice from a DataFrame.\n",
      "Try using .loc[row_indexer,col_indexer] = value instead\n",
      "\n",
      "See the caveats in the documentation: https://pandas.pydata.org/pandas-docs/stable/user_guide/indexing.html#returning-a-view-versus-a-copy\n",
      "  app.launch_new_instance()\n"
     ]
    }
   ],
   "source": [
    "def obe_clean(obesity_raw):\n",
    "    df = obesity_raw\n",
    "\n",
    "    # drop all rows with any NaN and NaT values\n",
    "    df1 = df.dropna()\n",
    "    # 2003 - 2020\n",
    "    states_all_year = ['States ' + str(2020 - i) for i in range(18)][::-1]\n",
    "    # Adult Obesity Rate 2003 - 2020\n",
    "    obesity_all_year = ['Adult Obesity Rate ' + str(2020 - i) for i in range(18)][::-1]\n",
    "    \n",
    "    # inner function\n",
    "    def clean(string):\n",
    "        return string[1:]\n",
    "\n",
    "    for i in states_all_year:\n",
    "        df1[i] = df1[i].apply(clean)\n",
    "    index = 0\n",
    "    d = {}\n",
    "    for name, group in df1.groupby(by = states_all_year):\n",
    "        for obe_year in obesity_all_year:\n",
    "            index += 1\n",
    "            # key: state\n",
    "            # value: rate by year\n",
    "            d[list(set(name))[0] + ',' + obe_year[-4::]] = (group[obe_year].unique()[0])\n",
    "\n",
    "    df_obe = pd.DataFrame(d.items(), columns=['States', 'Obesity Rate'])\n",
    "    df_obe[['States', 'Year']] = df_obe['States'].str.split(',', expand=True)\n",
    "    return df_obe\n",
    "\n",
    "df_obe = obe_clean(obesity_raw)"
   ]
  },
  {
   "cell_type": "code",
   "execution_count": 5,
   "metadata": {},
   "outputs": [
    {
     "name": "stdout",
     "output_type": "stream",
     "text": [
      "Data from the obesity dataset ranges from the year of 2003 to the year of 2020\n",
      "Data from the househole income dataset ranges from the year of 1984 to the year of 2017\n",
      "Data from the unemployment rate dataset ranges from the year of 1990 to the year of 2016\n"
     ]
    }
   ],
   "source": [
    "print('Data from the obesity dataset ranges from the year of {} to the year of {}'\\\n",
    "      .format(df_obe.Year.min(),df_obe.Year.max()))\n",
    "print('Data from the househole income dataset ranges from the year of {} to the year of {}'\\\n",
    "      .format(income.columns[1:][-1],income.columns[1:][0]))\n",
    "print('Data from the unemployment rate dataset ranges from the year of {} to the year of {}'\\\n",
    "      .format(unemployment.Year.min(),unemployment.Year.max()))"
   ]
  },
  {
   "cell_type": "code",
   "execution_count": 6,
   "metadata": {},
   "outputs": [
    {
     "data": {
      "text/html": [
       "<div>\n",
       "<style scoped>\n",
       "    .dataframe tbody tr th:only-of-type {\n",
       "        vertical-align: middle;\n",
       "    }\n",
       "\n",
       "    .dataframe tbody tr th {\n",
       "        vertical-align: top;\n",
       "    }\n",
       "\n",
       "    .dataframe thead th {\n",
       "        text-align: right;\n",
       "    }\n",
       "</style>\n",
       "<table border=\"1\" class=\"dataframe\">\n",
       "  <thead>\n",
       "    <tr style=\"text-align: right;\">\n",
       "      <th></th>\n",
       "      <th>States</th>\n",
       "      <th>Obesity Rate</th>\n",
       "      <th>Year</th>\n",
       "    </tr>\n",
       "  </thead>\n",
       "  <tbody>\n",
       "    <tr>\n",
       "      <th>0</th>\n",
       "      <td>Alabama</td>\n",
       "      <td>0.284</td>\n",
       "      <td>2003</td>\n",
       "    </tr>\n",
       "    <tr>\n",
       "      <th>1</th>\n",
       "      <td>Alabama</td>\n",
       "      <td>0.277</td>\n",
       "      <td>2004</td>\n",
       "    </tr>\n",
       "    <tr>\n",
       "      <th>2</th>\n",
       "      <td>Alabama</td>\n",
       "      <td>0.287</td>\n",
       "      <td>2005</td>\n",
       "    </tr>\n",
       "    <tr>\n",
       "      <th>3</th>\n",
       "      <td>Alabama</td>\n",
       "      <td>0.294</td>\n",
       "      <td>2006</td>\n",
       "    </tr>\n",
       "    <tr>\n",
       "      <th>4</th>\n",
       "      <td>Alabama</td>\n",
       "      <td>0.301</td>\n",
       "      <td>2007</td>\n",
       "    </tr>\n",
       "  </tbody>\n",
       "</table>\n",
       "</div>"
      ],
      "text/plain": [
       "    States  Obesity Rate  Year\n",
       "0  Alabama         0.284  2003\n",
       "1  Alabama         0.277  2004\n",
       "2  Alabama         0.287  2005\n",
       "3  Alabama         0.294  2006\n",
       "4  Alabama         0.301  2007"
      ]
     },
     "execution_count": 6,
     "metadata": {},
     "output_type": "execute_result"
    }
   ],
   "source": [
    "df_obe['Year'] = df_obe.Year.astype(int)\n",
    "cleaned_obe_rate = df_obe[(df_obe.Year >= 2003) & (df_obe.Year <= 2016)]\n",
    "cleaned_obe_rate.head()"
   ]
  },
  {
   "cell_type": "markdown",
   "metadata": {},
   "source": [
    "# Household income dataset cleaning"
   ]
  },
  {
   "cell_type": "markdown",
   "metadata": {},
   "source": [
    "Original dataset:"
   ]
  },
  {
   "cell_type": "code",
   "execution_count": 7,
   "metadata": {},
   "outputs": [
    {
     "data": {
      "text/html": [
       "<div>\n",
       "<style scoped>\n",
       "    .dataframe tbody tr th:only-of-type {\n",
       "        vertical-align: middle;\n",
       "    }\n",
       "\n",
       "    .dataframe tbody tr th {\n",
       "        vertical-align: top;\n",
       "    }\n",
       "\n",
       "    .dataframe thead th {\n",
       "        text-align: right;\n",
       "    }\n",
       "</style>\n",
       "<table border=\"1\" class=\"dataframe\">\n",
       "  <thead>\n",
       "    <tr style=\"text-align: right;\">\n",
       "      <th></th>\n",
       "      <th>State</th>\n",
       "      <th>2017</th>\n",
       "      <th>2016</th>\n",
       "      <th>2015</th>\n",
       "      <th>2014</th>\n",
       "      <th>2013</th>\n",
       "      <th>2013.1</th>\n",
       "      <th>2012</th>\n",
       "      <th>2011</th>\n",
       "      <th>2010</th>\n",
       "      <th>...</th>\n",
       "      <th>1993</th>\n",
       "      <th>1992</th>\n",
       "      <th>1991</th>\n",
       "      <th>1990</th>\n",
       "      <th>1989</th>\n",
       "      <th>1988</th>\n",
       "      <th>1987</th>\n",
       "      <th>1986</th>\n",
       "      <th>1985</th>\n",
       "      <th>1984</th>\n",
       "    </tr>\n",
       "  </thead>\n",
       "  <tbody>\n",
       "    <tr>\n",
       "      <th>0</th>\n",
       "      <td>United States</td>\n",
       "      <td>61,372</td>\n",
       "      <td>60,309</td>\n",
       "      <td>58,476</td>\n",
       "      <td>55,613</td>\n",
       "      <td>56,479</td>\n",
       "      <td>54,744</td>\n",
       "      <td>54,569</td>\n",
       "      <td>54,673</td>\n",
       "      <td>55,520</td>\n",
       "      <td>...</td>\n",
       "      <td>52,334</td>\n",
       "      <td>52,615</td>\n",
       "      <td>53,025</td>\n",
       "      <td>54,621</td>\n",
       "      <td>55,329</td>\n",
       "      <td>54,390</td>\n",
       "      <td>53,945</td>\n",
       "      <td>53,309</td>\n",
       "      <td>51,455</td>\n",
       "      <td>50,511</td>\n",
       "    </tr>\n",
       "    <tr>\n",
       "      <th>1</th>\n",
       "      <td>Alabama</td>\n",
       "      <td>51,113</td>\n",
       "      <td>48,237</td>\n",
       "      <td>46,053</td>\n",
       "      <td>43,820</td>\n",
       "      <td>49,876</td>\n",
       "      <td>43,616</td>\n",
       "      <td>46,490</td>\n",
       "      <td>46,520</td>\n",
       "      <td>46,120</td>\n",
       "      <td>...</td>\n",
       "      <td>42,017</td>\n",
       "      <td>44,323</td>\n",
       "      <td>42,852</td>\n",
       "      <td>42,607</td>\n",
       "      <td>40,740</td>\n",
       "      <td>39,852</td>\n",
       "      <td>40,848</td>\n",
       "      <td>40,965</td>\n",
       "      <td>39,941</td>\n",
       "      <td>39,007</td>\n",
       "    </tr>\n",
       "    <tr>\n",
       "      <th>2</th>\n",
       "      <td>Alaska</td>\n",
       "      <td>72,231</td>\n",
       "      <td>77,351</td>\n",
       "      <td>77,717</td>\n",
       "      <td>70,095</td>\n",
       "      <td>76,387</td>\n",
       "      <td>64,439</td>\n",
       "      <td>68,080</td>\n",
       "      <td>62,731</td>\n",
       "      <td>65,178</td>\n",
       "      <td>...</td>\n",
       "      <td>71,917</td>\n",
       "      <td>71,791</td>\n",
       "      <td>71,482</td>\n",
       "      <td>71,686</td>\n",
       "      <td>68,919</td>\n",
       "      <td>66,133</td>\n",
       "      <td>68,791</td>\n",
       "      <td>67,138</td>\n",
       "      <td>75,777</td>\n",
       "      <td>72,912</td>\n",
       "    </tr>\n",
       "    <tr>\n",
       "      <th>3</th>\n",
       "      <td>Arizona</td>\n",
       "      <td>61,125</td>\n",
       "      <td>58,328</td>\n",
       "      <td>54,060</td>\n",
       "      <td>51,050</td>\n",
       "      <td>55,453</td>\n",
       "      <td>53,335</td>\n",
       "      <td>50,320</td>\n",
       "      <td>53,108</td>\n",
       "      <td>52,839</td>\n",
       "      <td>...</td>\n",
       "      <td>51,110</td>\n",
       "      <td>50,420</td>\n",
       "      <td>54,101</td>\n",
       "      <td>53,309</td>\n",
       "      <td>54,651</td>\n",
       "      <td>52,811</td>\n",
       "      <td>55,369</td>\n",
       "      <td>54,600</td>\n",
       "      <td>52,019</td>\n",
       "      <td>48,280</td>\n",
       "    </tr>\n",
       "    <tr>\n",
       "      <th>4</th>\n",
       "      <td>Arkansas</td>\n",
       "      <td>48,829</td>\n",
       "      <td>46,894</td>\n",
       "      <td>44,282</td>\n",
       "      <td>46,560</td>\n",
       "      <td>41,503</td>\n",
       "      <td>42,075</td>\n",
       "      <td>41,735</td>\n",
       "      <td>45,114</td>\n",
       "      <td>43,477</td>\n",
       "      <td>...</td>\n",
       "      <td>38,594</td>\n",
       "      <td>41,015</td>\n",
       "      <td>41,248</td>\n",
       "      <td>41,565</td>\n",
       "      <td>41,025</td>\n",
       "      <td>40,299</td>\n",
       "      <td>38,971</td>\n",
       "      <td>40,104</td>\n",
       "      <td>38,019</td>\n",
       "      <td>35,320</td>\n",
       "    </tr>\n",
       "  </tbody>\n",
       "</table>\n",
       "<p>5 rows × 36 columns</p>\n",
       "</div>"
      ],
      "text/plain": [
       "           State    2017    2016    2015    2014    2013  2013.1    2012  \\\n",
       "0  United States  61,372  60,309  58,476  55,613  56,479  54,744  54,569   \n",
       "1        Alabama  51,113  48,237  46,053  43,820  49,876  43,616  46,490   \n",
       "2         Alaska  72,231  77,351  77,717  70,095  76,387  64,439  68,080   \n",
       "3        Arizona  61,125  58,328  54,060  51,050  55,453  53,335  50,320   \n",
       "4       Arkansas  48,829  46,894  44,282  46,560  41,503  42,075  41,735   \n",
       "\n",
       "     2011    2010  ...    1993    1992    1991    1990    1989    1988  \\\n",
       "0  54,673  55,520  ...  52,334  52,615  53,025  54,621  55,329  54,390   \n",
       "1  46,520  46,120  ...  42,017  44,323  42,852  42,607  40,740  39,852   \n",
       "2  62,731  65,178  ...  71,917  71,791  71,482  71,686  68,919  66,133   \n",
       "3  53,108  52,839  ...  51,110  50,420  54,101  53,309  54,651  52,811   \n",
       "4  45,114  43,477  ...  38,594  41,015  41,248  41,565  41,025  40,299   \n",
       "\n",
       "     1987    1986    1985    1984  \n",
       "0  53,945  53,309  51,455  50,511  \n",
       "1  40,848  40,965  39,941  39,007  \n",
       "2  68,791  67,138  75,777  72,912  \n",
       "3  55,369  54,600  52,019  48,280  \n",
       "4  38,971  40,104  38,019  35,320  \n",
       "\n",
       "[5 rows x 36 columns]"
      ]
     },
     "execution_count": 7,
     "metadata": {},
     "output_type": "execute_result"
    }
   ],
   "source": [
    "income.head()"
   ]
  },
  {
   "cell_type": "markdown",
   "metadata": {},
   "source": [
    "We extracted the wanted years columns, and did a transpose-like operation to store all the income values in the 'income' column and the cooresponding year values in the 'year' column."
   ]
  },
  {
   "cell_type": "code",
   "execution_count": 8,
   "metadata": {},
   "outputs": [
    {
     "data": {
      "text/html": [
       "<div>\n",
       "<style scoped>\n",
       "    .dataframe tbody tr th:only-of-type {\n",
       "        vertical-align: middle;\n",
       "    }\n",
       "\n",
       "    .dataframe tbody tr th {\n",
       "        vertical-align: top;\n",
       "    }\n",
       "\n",
       "    .dataframe thead th {\n",
       "        text-align: right;\n",
       "    }\n",
       "</style>\n",
       "<table border=\"1\" class=\"dataframe\">\n",
       "  <thead>\n",
       "    <tr style=\"text-align: right;\">\n",
       "      <th></th>\n",
       "      <th>State</th>\n",
       "      <th>income</th>\n",
       "      <th>year</th>\n",
       "    </tr>\n",
       "  </thead>\n",
       "  <tbody>\n",
       "    <tr>\n",
       "      <th>0</th>\n",
       "      <td>Alabama</td>\n",
       "      <td>49,774</td>\n",
       "      <td>2003</td>\n",
       "    </tr>\n",
       "    <tr>\n",
       "      <th>1</th>\n",
       "      <td>Alabama</td>\n",
       "      <td>47,651</td>\n",
       "      <td>2004</td>\n",
       "    </tr>\n",
       "    <tr>\n",
       "      <th>2</th>\n",
       "      <td>Alabama</td>\n",
       "      <td>46,745</td>\n",
       "      <td>2005</td>\n",
       "    </tr>\n",
       "    <tr>\n",
       "      <th>3</th>\n",
       "      <td>Alabama</td>\n",
       "      <td>46,255</td>\n",
       "      <td>2006</td>\n",
       "    </tr>\n",
       "    <tr>\n",
       "      <th>4</th>\n",
       "      <td>Alabama</td>\n",
       "      <td>50,028</td>\n",
       "      <td>2007</td>\n",
       "    </tr>\n",
       "  </tbody>\n",
       "</table>\n",
       "</div>"
      ],
      "text/plain": [
       "     State  income  year\n",
       "0  Alabama  49,774  2003\n",
       "1  Alabama  47,651  2004\n",
       "2  Alabama  46,745  2005\n",
       "3  Alabama  46,255  2006\n",
       "4  Alabama  50,028  2007"
      ]
     },
     "execution_count": 8,
     "metadata": {},
     "output_type": "execute_result"
    }
   ],
   "source": [
    "income = income[['State','2016','2015', '2014', '2013', '2012', '2011', '2010',\n",
    "       '2009', '2008', '2007', '2006', '2005', '2004', '2003']]\n",
    "cols = sorted(list(income.columns)[1:])[1:]\n",
    "new = income[['State','2003']].rename({'2003':'income'},axis=1)\n",
    "new['year'] = [2003]*(new.shape[0])\n",
    "for i in cols:\n",
    "    new2 = income[['State',i]].rename({i:'income'},axis=1)\n",
    "    new2['year'] = [int(i)]*(new2.shape[0])\n",
    "    new = new.append(new2,ignore_index=True)\n",
    "cleaned_income = new.sort_values(by=['State','year']).reset_index(drop=True).dropna()    \n",
    "cleaned_income.head()"
   ]
  },
  {
   "cell_type": "markdown",
   "metadata": {},
   "source": [
    "# Mental illness datasets cleaning"
   ]
  },
  {
   "cell_type": "markdown",
   "metadata": {},
   "source": [
    "Original dataset:"
   ]
  },
  {
   "cell_type": "code",
   "execution_count": 9,
   "metadata": {},
   "outputs": [
    {
     "data": {
      "text/html": [
       "<div>\n",
       "<style scoped>\n",
       "    .dataframe tbody tr th:only-of-type {\n",
       "        vertical-align: middle;\n",
       "    }\n",
       "\n",
       "    .dataframe tbody tr th {\n",
       "        vertical-align: top;\n",
       "    }\n",
       "\n",
       "    .dataframe thead th {\n",
       "        text-align: right;\n",
       "    }\n",
       "</style>\n",
       "<table border=\"1\" class=\"dataframe\">\n",
       "  <thead>\n",
       "    <tr style=\"text-align: right;\">\n",
       "      <th></th>\n",
       "      <th>id</th>\n",
       "      <th>state</th>\n",
       "      <th>ethnicity</th>\n",
       "      <th>gender</th>\n",
       "      <th>illness</th>\n",
       "    </tr>\n",
       "  </thead>\n",
       "  <tbody>\n",
       "    <tr>\n",
       "      <th>0</th>\n",
       "      <td>0</td>\n",
       "      <td>Hawaii</td>\n",
       "      <td>white</td>\n",
       "      <td>NaN</td>\n",
       "      <td>Other</td>\n",
       "    </tr>\n",
       "    <tr>\n",
       "      <th>1</th>\n",
       "      <td>1</td>\n",
       "      <td>Alaska</td>\n",
       "      <td>black</td>\n",
       "      <td>m</td>\n",
       "      <td>Depression</td>\n",
       "    </tr>\n",
       "    <tr>\n",
       "      <th>2</th>\n",
       "      <td>2</td>\n",
       "      <td>South Carolina</td>\n",
       "      <td>hispanic</td>\n",
       "      <td>f</td>\n",
       "      <td>Schizophrenia</td>\n",
       "    </tr>\n",
       "  </tbody>\n",
       "</table>\n",
       "</div>"
      ],
      "text/plain": [
       "   id           state ethnicity gender        illness\n",
       "0   0          Hawaii     white    NaN          Other\n",
       "1   1          Alaska     black      m     Depression\n",
       "2   2  South Carolina  hispanic      f  Schizophrenia"
      ]
     },
     "execution_count": 9,
     "metadata": {},
     "output_type": "execute_result"
    }
   ],
   "source": [
    "mental_1.head(3)"
   ]
  },
  {
   "cell_type": "markdown",
   "metadata": {},
   "source": [
    "We grouped the data by the states and found the total amount of mental illness cases in each state. After doing that on both of the datasets, we combined them together by adding the amount values to find the total cases for each state. Finally we only kept the useful columns for later."
   ]
  },
  {
   "cell_type": "code",
   "execution_count": 10,
   "metadata": {},
   "outputs": [
    {
     "data": {
      "text/html": [
       "<div>\n",
       "<style scoped>\n",
       "    .dataframe tbody tr th:only-of-type {\n",
       "        vertical-align: middle;\n",
       "    }\n",
       "\n",
       "    .dataframe tbody tr th {\n",
       "        vertical-align: top;\n",
       "    }\n",
       "\n",
       "    .dataframe thead th {\n",
       "        text-align: right;\n",
       "    }\n",
       "</style>\n",
       "<table border=\"1\" class=\"dataframe\">\n",
       "  <thead>\n",
       "    <tr style=\"text-align: right;\">\n",
       "      <th></th>\n",
       "      <th>state</th>\n",
       "      <th>total_illness_count</th>\n",
       "    </tr>\n",
       "  </thead>\n",
       "  <tbody>\n",
       "    <tr>\n",
       "      <th>0</th>\n",
       "      <td>Alabama</td>\n",
       "      <td>20077</td>\n",
       "    </tr>\n",
       "    <tr>\n",
       "      <th>1</th>\n",
       "      <td>Alaska</td>\n",
       "      <td>20026</td>\n",
       "    </tr>\n",
       "    <tr>\n",
       "      <th>2</th>\n",
       "      <td>Arizona</td>\n",
       "      <td>20208</td>\n",
       "    </tr>\n",
       "    <tr>\n",
       "      <th>3</th>\n",
       "      <td>Arkansas</td>\n",
       "      <td>20098</td>\n",
       "    </tr>\n",
       "    <tr>\n",
       "      <th>4</th>\n",
       "      <td>California</td>\n",
       "      <td>20001</td>\n",
       "    </tr>\n",
       "  </tbody>\n",
       "</table>\n",
       "</div>"
      ],
      "text/plain": [
       "        state  total_illness_count\n",
       "0     Alabama                20077\n",
       "1      Alaska                20026\n",
       "2     Arizona                20208\n",
       "3    Arkansas                20098\n",
       "4  California                20001"
      ]
     },
     "execution_count": 10,
     "metadata": {},
     "output_type": "execute_result"
    }
   ],
   "source": [
    "new_mental_1 = mental_1.groupby('state').id.count().to_frame().reset_index().rename({'id':'illness_count_1'},axis=1)\n",
    "new_mental_2 = mental_2.groupby('state').id.count().to_frame().reset_index().rename({'id':'illness_count_2'},axis=1)\n",
    "\n",
    "merged_mental = pd.merge(new_mental_1,new_mental_2, on = 'state')\n",
    "merged_mental['total_illness_count'] = merged_mental.illness_count_1 + merged_mental.illness_count_2\n",
    "cleaned_mental = merged_mental[['state','total_illness_count']]\n",
    "cleaned_mental.head()"
   ]
  },
  {
   "cell_type": "markdown",
   "metadata": {},
   "source": [
    "# Unemployment rate dataset cleaning"
   ]
  },
  {
   "cell_type": "markdown",
   "metadata": {},
   "source": [
    "Original dataset:"
   ]
  },
  {
   "cell_type": "code",
   "execution_count": 11,
   "metadata": {},
   "outputs": [
    {
     "data": {
      "text/html": [
       "<div>\n",
       "<style scoped>\n",
       "    .dataframe tbody tr th:only-of-type {\n",
       "        vertical-align: middle;\n",
       "    }\n",
       "\n",
       "    .dataframe tbody tr th {\n",
       "        vertical-align: top;\n",
       "    }\n",
       "\n",
       "    .dataframe thead th {\n",
       "        text-align: right;\n",
       "    }\n",
       "</style>\n",
       "<table border=\"1\" class=\"dataframe\">\n",
       "  <thead>\n",
       "    <tr style=\"text-align: right;\">\n",
       "      <th></th>\n",
       "      <th>Year</th>\n",
       "      <th>Month</th>\n",
       "      <th>State</th>\n",
       "      <th>County</th>\n",
       "      <th>Rate</th>\n",
       "    </tr>\n",
       "  </thead>\n",
       "  <tbody>\n",
       "    <tr>\n",
       "      <th>0</th>\n",
       "      <td>2015</td>\n",
       "      <td>February</td>\n",
       "      <td>Mississippi</td>\n",
       "      <td>Newton County</td>\n",
       "      <td>6.1</td>\n",
       "    </tr>\n",
       "    <tr>\n",
       "      <th>1</th>\n",
       "      <td>2015</td>\n",
       "      <td>February</td>\n",
       "      <td>Mississippi</td>\n",
       "      <td>Panola County</td>\n",
       "      <td>9.4</td>\n",
       "    </tr>\n",
       "    <tr>\n",
       "      <th>2</th>\n",
       "      <td>2015</td>\n",
       "      <td>February</td>\n",
       "      <td>Mississippi</td>\n",
       "      <td>Monroe County</td>\n",
       "      <td>7.9</td>\n",
       "    </tr>\n",
       "    <tr>\n",
       "      <th>3</th>\n",
       "      <td>2015</td>\n",
       "      <td>February</td>\n",
       "      <td>Mississippi</td>\n",
       "      <td>Hinds County</td>\n",
       "      <td>6.1</td>\n",
       "    </tr>\n",
       "    <tr>\n",
       "      <th>4</th>\n",
       "      <td>2015</td>\n",
       "      <td>February</td>\n",
       "      <td>Mississippi</td>\n",
       "      <td>Kemper County</td>\n",
       "      <td>10.6</td>\n",
       "    </tr>\n",
       "  </tbody>\n",
       "</table>\n",
       "</div>"
      ],
      "text/plain": [
       "   Year     Month        State         County  Rate\n",
       "0  2015  February  Mississippi  Newton County   6.1\n",
       "1  2015  February  Mississippi  Panola County   9.4\n",
       "2  2015  February  Mississippi  Monroe County   7.9\n",
       "3  2015  February  Mississippi   Hinds County   6.1\n",
       "4  2015  February  Mississippi  Kemper County  10.6"
      ]
     },
     "execution_count": 11,
     "metadata": {},
     "output_type": "execute_result"
    }
   ],
   "source": [
    "unemployment.head()"
   ]
  },
  {
   "cell_type": "markdown",
   "metadata": {},
   "source": [
    "we grouped the data by the year and the states, and found the yearly average unemployment rate by each state. Then, we limited the data to contain the entries from 2003-2016"
   ]
  },
  {
   "cell_type": "code",
   "execution_count": 12,
   "metadata": {},
   "outputs": [
    {
     "data": {
      "text/html": [
       "<div>\n",
       "<style scoped>\n",
       "    .dataframe tbody tr th:only-of-type {\n",
       "        vertical-align: middle;\n",
       "    }\n",
       "\n",
       "    .dataframe tbody tr th {\n",
       "        vertical-align: top;\n",
       "    }\n",
       "\n",
       "    .dataframe thead th {\n",
       "        text-align: right;\n",
       "    }\n",
       "</style>\n",
       "<table border=\"1\" class=\"dataframe\">\n",
       "  <thead>\n",
       "    <tr style=\"text-align: right;\">\n",
       "      <th></th>\n",
       "      <th>State</th>\n",
       "      <th>Year</th>\n",
       "      <th>Rate</th>\n",
       "    </tr>\n",
       "  </thead>\n",
       "  <tbody>\n",
       "    <tr>\n",
       "      <th>13</th>\n",
       "      <td>Alabama</td>\n",
       "      <td>2003</td>\n",
       "      <td>7.075249</td>\n",
       "    </tr>\n",
       "    <tr>\n",
       "      <th>14</th>\n",
       "      <td>Alabama</td>\n",
       "      <td>2004</td>\n",
       "      <td>6.665920</td>\n",
       "    </tr>\n",
       "    <tr>\n",
       "      <th>15</th>\n",
       "      <td>Alabama</td>\n",
       "      <td>2005</td>\n",
       "      <td>5.183831</td>\n",
       "    </tr>\n",
       "    <tr>\n",
       "      <th>16</th>\n",
       "      <td>Alabama</td>\n",
       "      <td>2006</td>\n",
       "      <td>4.774378</td>\n",
       "    </tr>\n",
       "    <tr>\n",
       "      <th>17</th>\n",
       "      <td>Alabama</td>\n",
       "      <td>2007</td>\n",
       "      <td>4.898259</td>\n",
       "    </tr>\n",
       "  </tbody>\n",
       "</table>\n",
       "</div>"
      ],
      "text/plain": [
       "      State  Year      Rate\n",
       "13  Alabama  2003  7.075249\n",
       "14  Alabama  2004  6.665920\n",
       "15  Alabama  2005  5.183831\n",
       "16  Alabama  2006  4.774378\n",
       "17  Alabama  2007  4.898259"
      ]
     },
     "execution_count": 12,
     "metadata": {},
     "output_type": "execute_result"
    }
   ],
   "source": [
    "grouped = unemployment.groupby(['State','Year']).Rate.agg('mean').to_frame().reset_index()\n",
    "cleaned_unemployment = grouped[(grouped.Year >= 2003) & (grouped.Year <= 2016)]\n",
    "cleaned_unemployment.head()"
   ]
  },
  {
   "cell_type": "markdown",
   "metadata": {},
   "source": [
    "# States weather and temperature dataset cleaning"
   ]
  },
  {
   "cell_type": "markdown",
   "metadata": {},
   "source": [
    "Original dataset:"
   ]
  },
  {
   "cell_type": "code",
   "execution_count": 13,
   "metadata": {},
   "outputs": [
    {
     "data": {
      "text/html": [
       "<div>\n",
       "<style scoped>\n",
       "    .dataframe tbody tr th:only-of-type {\n",
       "        vertical-align: middle;\n",
       "    }\n",
       "\n",
       "    .dataframe tbody tr th {\n",
       "        vertical-align: top;\n",
       "    }\n",
       "\n",
       "    .dataframe thead th {\n",
       "        text-align: right;\n",
       "    }\n",
       "</style>\n",
       "<table border=\"1\" class=\"dataframe\">\n",
       "  <thead>\n",
       "    <tr style=\"text-align: right;\">\n",
       "      <th></th>\n",
       "      <th>Data.Precipitation</th>\n",
       "      <th>Date.Full</th>\n",
       "      <th>Date.Month</th>\n",
       "      <th>Date.Week of</th>\n",
       "      <th>Date.Year</th>\n",
       "      <th>Station.City</th>\n",
       "      <th>Station.Code</th>\n",
       "      <th>Station.Location</th>\n",
       "      <th>Station.State</th>\n",
       "      <th>Data.Temperature.Avg Temp</th>\n",
       "      <th>Data.Temperature.Max Temp</th>\n",
       "      <th>Data.Temperature.Min Temp</th>\n",
       "      <th>Data.Wind.Direction</th>\n",
       "      <th>Data.Wind.Speed</th>\n",
       "    </tr>\n",
       "  </thead>\n",
       "  <tbody>\n",
       "    <tr>\n",
       "      <th>0</th>\n",
       "      <td>0.00</td>\n",
       "      <td>2016-01-03</td>\n",
       "      <td>1</td>\n",
       "      <td>3</td>\n",
       "      <td>2016</td>\n",
       "      <td>Birmingham</td>\n",
       "      <td>BHM</td>\n",
       "      <td>Birmingham, AL</td>\n",
       "      <td>Alabama</td>\n",
       "      <td>39</td>\n",
       "      <td>46</td>\n",
       "      <td>32</td>\n",
       "      <td>33</td>\n",
       "      <td>4.33</td>\n",
       "    </tr>\n",
       "    <tr>\n",
       "      <th>1</th>\n",
       "      <td>0.00</td>\n",
       "      <td>2016-01-03</td>\n",
       "      <td>1</td>\n",
       "      <td>3</td>\n",
       "      <td>2016</td>\n",
       "      <td>Huntsville</td>\n",
       "      <td>HSV</td>\n",
       "      <td>Huntsville, AL</td>\n",
       "      <td>Alabama</td>\n",
       "      <td>39</td>\n",
       "      <td>47</td>\n",
       "      <td>31</td>\n",
       "      <td>32</td>\n",
       "      <td>3.86</td>\n",
       "    </tr>\n",
       "    <tr>\n",
       "      <th>2</th>\n",
       "      <td>0.16</td>\n",
       "      <td>2016-01-03</td>\n",
       "      <td>1</td>\n",
       "      <td>3</td>\n",
       "      <td>2016</td>\n",
       "      <td>Mobile</td>\n",
       "      <td>MOB</td>\n",
       "      <td>Mobile, AL</td>\n",
       "      <td>Alabama</td>\n",
       "      <td>46</td>\n",
       "      <td>51</td>\n",
       "      <td>41</td>\n",
       "      <td>35</td>\n",
       "      <td>9.73</td>\n",
       "    </tr>\n",
       "    <tr>\n",
       "      <th>3</th>\n",
       "      <td>0.00</td>\n",
       "      <td>2016-01-03</td>\n",
       "      <td>1</td>\n",
       "      <td>3</td>\n",
       "      <td>2016</td>\n",
       "      <td>Montgomery</td>\n",
       "      <td>MGM</td>\n",
       "      <td>Montgomery, AL</td>\n",
       "      <td>Alabama</td>\n",
       "      <td>45</td>\n",
       "      <td>52</td>\n",
       "      <td>38</td>\n",
       "      <td>32</td>\n",
       "      <td>6.86</td>\n",
       "    </tr>\n",
       "    <tr>\n",
       "      <th>4</th>\n",
       "      <td>0.01</td>\n",
       "      <td>2016-01-03</td>\n",
       "      <td>1</td>\n",
       "      <td>3</td>\n",
       "      <td>2016</td>\n",
       "      <td>Anchorage</td>\n",
       "      <td>ANC</td>\n",
       "      <td>Anchorage, AK</td>\n",
       "      <td>Alaska</td>\n",
       "      <td>34</td>\n",
       "      <td>38</td>\n",
       "      <td>29</td>\n",
       "      <td>19</td>\n",
       "      <td>7.80</td>\n",
       "    </tr>\n",
       "  </tbody>\n",
       "</table>\n",
       "</div>"
      ],
      "text/plain": [
       "   Data.Precipitation   Date.Full  Date.Month  Date.Week of  Date.Year  \\\n",
       "0                0.00  2016-01-03           1             3       2016   \n",
       "1                0.00  2016-01-03           1             3       2016   \n",
       "2                0.16  2016-01-03           1             3       2016   \n",
       "3                0.00  2016-01-03           1             3       2016   \n",
       "4                0.01  2016-01-03           1             3       2016   \n",
       "\n",
       "  Station.City Station.Code Station.Location Station.State  \\\n",
       "0   Birmingham          BHM   Birmingham, AL       Alabama   \n",
       "1   Huntsville          HSV   Huntsville, AL       Alabama   \n",
       "2       Mobile          MOB       Mobile, AL       Alabama   \n",
       "3   Montgomery          MGM   Montgomery, AL       Alabama   \n",
       "4    Anchorage          ANC    Anchorage, AK        Alaska   \n",
       "\n",
       "   Data.Temperature.Avg Temp  Data.Temperature.Max Temp  \\\n",
       "0                         39                         46   \n",
       "1                         39                         47   \n",
       "2                         46                         51   \n",
       "3                         45                         52   \n",
       "4                         34                         38   \n",
       "\n",
       "   Data.Temperature.Min Temp  Data.Wind.Direction  Data.Wind.Speed  \n",
       "0                         32                   33             4.33  \n",
       "1                         31                   32             3.86  \n",
       "2                         41                   35             9.73  \n",
       "3                         38                   32             6.86  \n",
       "4                         29                   19             7.80  "
      ]
     },
     "execution_count": 13,
     "metadata": {},
     "output_type": "execute_result"
    }
   ],
   "source": [
    "states_weather.head()"
   ]
  },
  {
   "cell_type": "markdown",
   "metadata": {},
   "source": [
    "We grouped the data by the states, found the average temperature of that state, and kept the wanted columns"
   ]
  },
  {
   "cell_type": "code",
   "execution_count": 14,
   "metadata": {},
   "outputs": [
    {
     "data": {
      "text/html": [
       "<div>\n",
       "<style scoped>\n",
       "    .dataframe tbody tr th:only-of-type {\n",
       "        vertical-align: middle;\n",
       "    }\n",
       "\n",
       "    .dataframe tbody tr th {\n",
       "        vertical-align: top;\n",
       "    }\n",
       "\n",
       "    .dataframe thead th {\n",
       "        text-align: right;\n",
       "    }\n",
       "</style>\n",
       "<table border=\"1\" class=\"dataframe\">\n",
       "  <thead>\n",
       "    <tr style=\"text-align: right;\">\n",
       "      <th></th>\n",
       "      <th>states</th>\n",
       "      <th>avg_temp</th>\n",
       "    </tr>\n",
       "  </thead>\n",
       "  <tbody>\n",
       "    <tr>\n",
       "      <th>0</th>\n",
       "      <td>Alabama</td>\n",
       "      <td>66.528302</td>\n",
       "    </tr>\n",
       "    <tr>\n",
       "      <th>1</th>\n",
       "      <td>Alaska</td>\n",
       "      <td>41.157650</td>\n",
       "    </tr>\n",
       "    <tr>\n",
       "      <th>2</th>\n",
       "      <td>Arizona</td>\n",
       "      <td>66.286792</td>\n",
       "    </tr>\n",
       "    <tr>\n",
       "      <th>3</th>\n",
       "      <td>Arkansas</td>\n",
       "      <td>62.308176</td>\n",
       "    </tr>\n",
       "    <tr>\n",
       "      <th>4</th>\n",
       "      <td>California</td>\n",
       "      <td>62.363363</td>\n",
       "    </tr>\n",
       "  </tbody>\n",
       "</table>\n",
       "</div>"
      ],
      "text/plain": [
       "       states   avg_temp\n",
       "0     Alabama  66.528302\n",
       "1      Alaska  41.157650\n",
       "2     Arizona  66.286792\n",
       "3    Arkansas  62.308176\n",
       "4  California  62.363363"
      ]
     },
     "execution_count": 14,
     "metadata": {},
     "output_type": "execute_result"
    }
   ],
   "source": [
    "cleaned_states_temp = states_weather.groupby('Station.State')['Data.Temperature.Avg Temp'].agg('mean').to_frame().reset_index()\\\n",
    "                    .rename({'Station.State':'states','Data.Temperature.Avg Temp':'avg_temp'},axis=1)\n",
    "cleaned_states_temp.head()\n"
   ]
  },
  {
   "cell_type": "markdown",
   "metadata": {},
   "source": [
    "# Merging"
   ]
  },
  {
   "cell_type": "markdown",
   "metadata": {},
   "source": [
    "### Merging the household income, unemployment rate datasets with yearly obesity rate by states dataset."
   ]
  },
  {
   "cell_type": "code",
   "execution_count": 15,
   "metadata": {},
   "outputs": [
    {
     "data": {
      "text/html": [
       "<div>\n",
       "<style scoped>\n",
       "    .dataframe tbody tr th:only-of-type {\n",
       "        vertical-align: middle;\n",
       "    }\n",
       "\n",
       "    .dataframe tbody tr th {\n",
       "        vertical-align: top;\n",
       "    }\n",
       "\n",
       "    .dataframe thead th {\n",
       "        text-align: right;\n",
       "    }\n",
       "</style>\n",
       "<table border=\"1\" class=\"dataframe\">\n",
       "  <thead>\n",
       "    <tr style=\"text-align: right;\">\n",
       "      <th></th>\n",
       "      <th>state</th>\n",
       "      <th>income</th>\n",
       "      <th>year</th>\n",
       "      <th>obe_rate</th>\n",
       "      <th>unemploy_rate</th>\n",
       "    </tr>\n",
       "  </thead>\n",
       "  <tbody>\n",
       "    <tr>\n",
       "      <th>0</th>\n",
       "      <td>Alabama</td>\n",
       "      <td>49774.0</td>\n",
       "      <td>2003</td>\n",
       "      <td>0.284</td>\n",
       "      <td>7.075249</td>\n",
       "    </tr>\n",
       "    <tr>\n",
       "      <th>1</th>\n",
       "      <td>Alabama</td>\n",
       "      <td>47651.0</td>\n",
       "      <td>2004</td>\n",
       "      <td>0.277</td>\n",
       "      <td>6.665920</td>\n",
       "    </tr>\n",
       "    <tr>\n",
       "      <th>2</th>\n",
       "      <td>Alabama</td>\n",
       "      <td>46745.0</td>\n",
       "      <td>2005</td>\n",
       "      <td>0.287</td>\n",
       "      <td>5.183831</td>\n",
       "    </tr>\n",
       "    <tr>\n",
       "      <th>3</th>\n",
       "      <td>Alabama</td>\n",
       "      <td>46255.0</td>\n",
       "      <td>2006</td>\n",
       "      <td>0.294</td>\n",
       "      <td>4.774378</td>\n",
       "    </tr>\n",
       "    <tr>\n",
       "      <th>4</th>\n",
       "      <td>Alabama</td>\n",
       "      <td>50028.0</td>\n",
       "      <td>2007</td>\n",
       "      <td>0.301</td>\n",
       "      <td>4.898259</td>\n",
       "    </tr>\n",
       "  </tbody>\n",
       "</table>\n",
       "</div>"
      ],
      "text/plain": [
       "     state   income  year  obe_rate  unemploy_rate\n",
       "0  Alabama  49774.0  2003     0.284       7.075249\n",
       "1  Alabama  47651.0  2004     0.277       6.665920\n",
       "2  Alabama  46745.0  2005     0.287       5.183831\n",
       "3  Alabama  46255.0  2006     0.294       4.774378\n",
       "4  Alabama  50028.0  2007     0.301       4.898259"
      ]
     },
     "execution_count": 15,
     "metadata": {},
     "output_type": "execute_result"
    }
   ],
   "source": [
    "merge1 = pd.merge(cleaned_income,cleaned_obe_rate, left_on = ['State','year'],right_on = ['States','Year'],how = 'inner')\n",
    "\n",
    "merge2 = pd.merge(merge1,cleaned_unemployment,left_on = ['State','year'],right_on = ['State','Year'],how = 'inner')\n",
    "\n",
    "years_df = merge2[['State','income','year','Obesity Rate','Rate']].rename({'State':'state','Obesity Rate':'obe_rate',\\\n",
    "                                                                          'Rate':'unemploy_rate'},axis=1)\n",
    "years_df['income'] = years_df['income'].str.replace(',','').astype(float)\n",
    "years_df.head()\n"
   ]
  },
  {
   "cell_type": "markdown",
   "metadata": {},
   "source": [
    "### Merging the total mental illness count, states population datasets with the obesity rate by states dataset"
   ]
  },
  {
   "cell_type": "markdown",
   "metadata": {},
   "source": [
    "After merging, we divided the total mental illness count for each state by their population to find out the approximate percentage of people having mental illness in each state, hence normalized the data. "
   ]
  },
  {
   "cell_type": "code",
   "execution_count": 16,
   "metadata": {},
   "outputs": [
    {
     "data": {
      "text/html": [
       "<div>\n",
       "<style scoped>\n",
       "    .dataframe tbody tr th:only-of-type {\n",
       "        vertical-align: middle;\n",
       "    }\n",
       "\n",
       "    .dataframe tbody tr th {\n",
       "        vertical-align: top;\n",
       "    }\n",
       "\n",
       "    .dataframe thead th {\n",
       "        text-align: right;\n",
       "    }\n",
       "</style>\n",
       "<table border=\"1\" class=\"dataframe\">\n",
       "  <thead>\n",
       "    <tr style=\"text-align: right;\">\n",
       "      <th></th>\n",
       "      <th>states</th>\n",
       "      <th>obe_rate</th>\n",
       "      <th>total_illness_count</th>\n",
       "      <th>population</th>\n",
       "      <th>mental_percentage</th>\n",
       "    </tr>\n",
       "  </thead>\n",
       "  <tbody>\n",
       "    <tr>\n",
       "      <th>0</th>\n",
       "      <td>Alabama</td>\n",
       "      <td>0.315429</td>\n",
       "      <td>20077</td>\n",
       "      <td>4779736</td>\n",
       "      <td>0.004200</td>\n",
       "    </tr>\n",
       "    <tr>\n",
       "      <th>1</th>\n",
       "      <td>Alaska</td>\n",
       "      <td>0.269571</td>\n",
       "      <td>20026</td>\n",
       "      <td>710231</td>\n",
       "      <td>0.028196</td>\n",
       "    </tr>\n",
       "    <tr>\n",
       "      <th>2</th>\n",
       "      <td>Arizona</td>\n",
       "      <td>0.247143</td>\n",
       "      <td>20208</td>\n",
       "      <td>6392017</td>\n",
       "      <td>0.003161</td>\n",
       "    </tr>\n",
       "    <tr>\n",
       "      <th>3</th>\n",
       "      <td>Arkansas</td>\n",
       "      <td>0.305071</td>\n",
       "      <td>20098</td>\n",
       "      <td>2915918</td>\n",
       "      <td>0.006893</td>\n",
       "    </tr>\n",
       "    <tr>\n",
       "      <th>4</th>\n",
       "      <td>California</td>\n",
       "      <td>0.237714</td>\n",
       "      <td>20001</td>\n",
       "      <td>37253956</td>\n",
       "      <td>0.000537</td>\n",
       "    </tr>\n",
       "  </tbody>\n",
       "</table>\n",
       "</div>"
      ],
      "text/plain": [
       "       states  obe_rate  total_illness_count  population  mental_percentage\n",
       "0     Alabama  0.315429                20077     4779736           0.004200\n",
       "1      Alaska  0.269571                20026      710231           0.028196\n",
       "2     Arizona  0.247143                20208     6392017           0.003161\n",
       "3    Arkansas  0.305071                20098     2915918           0.006893\n",
       "4  California  0.237714                20001    37253956           0.000537"
      ]
     },
     "execution_count": 16,
     "metadata": {},
     "output_type": "execute_result"
    }
   ],
   "source": [
    "count_merge = cleaned_obe_rate.groupby('States')['Obesity Rate'].agg('mean').to_frame().reset_index()\n",
    "mental_obe_df = pd.merge(count_merge,cleaned_mental,left_on = 'States',right_on = 'state',how = 'inner')\n",
    "mental_obe_df = mental_obe_df[['States','Obesity Rate','total_illness_count']].rename({'States':'state',\\\n",
    "                                                                                      'Obesity Rate':'obe_rate'},axis=1)\n",
    "cleaned_population = population[['NAME','CENSUS2010POP']].rename({'NAME':'states','CENSUS2010POP':'population'},axis=1)\n",
    "merged = pd.merge(mental_obe_df,cleaned_population,left_on = 'state',right_on = 'states',how = 'inner')\n",
    "new_merged = merged.drop(columns= ['state'],axis=1)\n",
    "new_merged = new_merged[['states','obe_rate','total_illness_count','population']]\n",
    "new_merged['mental_percentage'] = new_merged.apply(lambda x: x.total_illness_count / x.population, axis=1)\n",
    "new_merged.head()\n"
   ]
  },
  {
   "cell_type": "markdown",
   "metadata": {},
   "source": [
    "### Merging the obesity rates by state, average temperature by states datasets with the states boundary shape file dataset"
   ]
  },
  {
   "cell_type": "code",
   "execution_count": 17,
   "metadata": {},
   "outputs": [
    {
     "data": {
      "text/html": [
       "<div>\n",
       "<style scoped>\n",
       "    .dataframe tbody tr th:only-of-type {\n",
       "        vertical-align: middle;\n",
       "    }\n",
       "\n",
       "    .dataframe tbody tr th {\n",
       "        vertical-align: top;\n",
       "    }\n",
       "\n",
       "    .dataframe thead th {\n",
       "        text-align: right;\n",
       "    }\n",
       "</style>\n",
       "<table border=\"1\" class=\"dataframe\">\n",
       "  <thead>\n",
       "    <tr style=\"text-align: right;\">\n",
       "      <th></th>\n",
       "      <th>states</th>\n",
       "      <th>avg_temp</th>\n",
       "      <th>STATEFP</th>\n",
       "      <th>STATENS</th>\n",
       "      <th>AFFGEOID</th>\n",
       "      <th>GEOID</th>\n",
       "      <th>STUSPS</th>\n",
       "      <th>NAME</th>\n",
       "      <th>LSAD</th>\n",
       "      <th>ALAND</th>\n",
       "      <th>AWATER</th>\n",
       "      <th>geometry</th>\n",
       "      <th>States</th>\n",
       "      <th>Obesity Rate</th>\n",
       "    </tr>\n",
       "  </thead>\n",
       "  <tbody>\n",
       "    <tr>\n",
       "      <th>0</th>\n",
       "      <td>Alabama</td>\n",
       "      <td>66.528302</td>\n",
       "      <td>01</td>\n",
       "      <td>01779775</td>\n",
       "      <td>0400000US01</td>\n",
       "      <td>01</td>\n",
       "      <td>AL</td>\n",
       "      <td>Alabama</td>\n",
       "      <td>00</td>\n",
       "      <td>131174048583</td>\n",
       "      <td>4593327154</td>\n",
       "      <td>MULTIPOLYGON (((-88.05338 30.50699, -88.05109 ...</td>\n",
       "      <td>Alabama</td>\n",
       "      <td>0.315429</td>\n",
       "    </tr>\n",
       "    <tr>\n",
       "      <th>1</th>\n",
       "      <td>Alaska</td>\n",
       "      <td>41.157650</td>\n",
       "      <td>02</td>\n",
       "      <td>01785533</td>\n",
       "      <td>0400000US02</td>\n",
       "      <td>02</td>\n",
       "      <td>AK</td>\n",
       "      <td>Alaska</td>\n",
       "      <td>00</td>\n",
       "      <td>1478839695958</td>\n",
       "      <td>245481577452</td>\n",
       "      <td>MULTIPOLYGON (((179.48246 51.98283, 179.48656 ...</td>\n",
       "      <td>Alaska</td>\n",
       "      <td>0.269571</td>\n",
       "    </tr>\n",
       "    <tr>\n",
       "      <th>2</th>\n",
       "      <td>Arizona</td>\n",
       "      <td>66.286792</td>\n",
       "      <td>04</td>\n",
       "      <td>01779777</td>\n",
       "      <td>0400000US04</td>\n",
       "      <td>04</td>\n",
       "      <td>AZ</td>\n",
       "      <td>Arizona</td>\n",
       "      <td>00</td>\n",
       "      <td>294198551143</td>\n",
       "      <td>1027337603</td>\n",
       "      <td>POLYGON ((-114.81629 32.50804, -114.81432 32.5...</td>\n",
       "      <td>Arizona</td>\n",
       "      <td>0.247143</td>\n",
       "    </tr>\n",
       "    <tr>\n",
       "      <th>3</th>\n",
       "      <td>Arkansas</td>\n",
       "      <td>62.308176</td>\n",
       "      <td>05</td>\n",
       "      <td>00068085</td>\n",
       "      <td>0400000US05</td>\n",
       "      <td>05</td>\n",
       "      <td>AR</td>\n",
       "      <td>Arkansas</td>\n",
       "      <td>00</td>\n",
       "      <td>134768872727</td>\n",
       "      <td>2962859592</td>\n",
       "      <td>POLYGON ((-94.61783 36.49941, -94.61765 36.499...</td>\n",
       "      <td>Arkansas</td>\n",
       "      <td>0.305071</td>\n",
       "    </tr>\n",
       "    <tr>\n",
       "      <th>4</th>\n",
       "      <td>California</td>\n",
       "      <td>62.363363</td>\n",
       "      <td>06</td>\n",
       "      <td>01779778</td>\n",
       "      <td>0400000US06</td>\n",
       "      <td>06</td>\n",
       "      <td>CA</td>\n",
       "      <td>California</td>\n",
       "      <td>00</td>\n",
       "      <td>403503931312</td>\n",
       "      <td>20463871877</td>\n",
       "      <td>MULTIPOLYGON (((-118.60442 33.47855, -118.5987...</td>\n",
       "      <td>California</td>\n",
       "      <td>0.237714</td>\n",
       "    </tr>\n",
       "  </tbody>\n",
       "</table>\n",
       "</div>"
      ],
      "text/plain": [
       "       states   avg_temp STATEFP   STATENS     AFFGEOID GEOID STUSPS  \\\n",
       "0     Alabama  66.528302      01  01779775  0400000US01    01     AL   \n",
       "1      Alaska  41.157650      02  01785533  0400000US02    02     AK   \n",
       "2     Arizona  66.286792      04  01779777  0400000US04    04     AZ   \n",
       "3    Arkansas  62.308176      05  00068085  0400000US05    05     AR   \n",
       "4  California  62.363363      06  01779778  0400000US06    06     CA   \n",
       "\n",
       "         NAME LSAD          ALAND        AWATER  \\\n",
       "0     Alabama   00   131174048583    4593327154   \n",
       "1      Alaska   00  1478839695958  245481577452   \n",
       "2     Arizona   00   294198551143    1027337603   \n",
       "3    Arkansas   00   134768872727    2962859592   \n",
       "4  California   00   403503931312   20463871877   \n",
       "\n",
       "                                            geometry      States  Obesity Rate  \n",
       "0  MULTIPOLYGON (((-88.05338 30.50699, -88.05109 ...     Alabama      0.315429  \n",
       "1  MULTIPOLYGON (((179.48246 51.98283, 179.48656 ...      Alaska      0.269571  \n",
       "2  POLYGON ((-114.81629 32.50804, -114.81432 32.5...     Arizona      0.247143  \n",
       "3  POLYGON ((-94.61783 36.49941, -94.61765 36.499...    Arkansas      0.305071  \n",
       "4  MULTIPOLYGON (((-118.60442 33.47855, -118.5987...  California      0.237714  "
      ]
     },
     "execution_count": 17,
     "metadata": {},
     "output_type": "execute_result"
    }
   ],
   "source": [
    "states_obe_old = pd.merge(states_bound,count_merge,left_on = 'NAME',right_on = 'States',how = 'inner')\n",
    "states_obe = pd.merge(cleaned_states_temp,states_obe_old,left_on = 'states',right_on = 'States',how = 'inner')\n",
    "states_obe.head()"
   ]
  },
  {
   "cell_type": "markdown",
   "metadata": {},
   "source": [
    "After merging, we categorized the temperature and the obesity rate for each mainland state for later purposes, and transformed the merged data frame to geo data frame. "
   ]
  },
  {
   "cell_type": "code",
   "execution_count": 18,
   "metadata": {},
   "outputs": [
    {
     "name": "stdout",
     "output_type": "stream",
     "text": [
      "lowest temperature is:41.15764979639325\n",
      "highest temperature is:73.92610062893081\n",
      "intervals: 10.922816944179187\n"
     ]
    }
   ],
   "source": [
    "print('lowest temperature is:' + str(states_obe.avg_temp.min()))\n",
    "print('highest temperature is:' + str(states_obe.avg_temp.max()))\n",
    "print('intervals: ' + str((states_obe.avg_temp.max() - states_obe.avg_temp.min())/3))"
   ]
  },
  {
   "cell_type": "code",
   "execution_count": 19,
   "metadata": {},
   "outputs": [
    {
     "name": "stdout",
     "output_type": "stream",
     "text": [
      "lowest obesity rate is:0.19242857142857142\n",
      "highest obesity rate is:0.3297857142857143\n",
      "intervals: 0.04578571428571429\n"
     ]
    }
   ],
   "source": [
    "print('lowest obesity rate is:' + str(mental_obe_df.obe_rate.min()))\n",
    "print('highest obesity rate is:' + str(mental_obe_df.obe_rate.max()))\n",
    "print('intervals: ' + str(((mental_obe_df.obe_rate.max() - mental_obe_df.obe_rate.min())/3)))"
   ]
  },
  {
   "cell_type": "markdown",
   "metadata": {},
   "source": [
    "#### Use Kmeans to categorized average temperature"
   ]
  },
  {
   "cell_type": "code",
   "execution_count": 20,
   "metadata": {},
   "outputs": [],
   "source": [
    "from sklearn.cluster import KMeans\n",
    "x_temp = np.asarray(states_obe.avg_temp)[:,None]\n",
    "x_obesity = np.asarray(states_obe['Obesity Rate'])[:,None]\n",
    "kmeans_temp = KMeans(n_clusters=3, random_state=0).fit(x_temp)\n",
    "# kmeans_obesity = KMeans(n_clusters=3, random_state=0).fit(x_obesity)"
   ]
  },
  {
   "cell_type": "code",
   "execution_count": 21,
   "metadata": {},
   "outputs": [],
   "source": [
    "categorized_temp = kmeans_temp.predict(states_obe['avg_temp'][:,None])\n",
    "# categorized_obesity = kmeans_obesity.predict(states_obe['Obesity Rate'][:,None])\n",
    "# new_graph = states_obe.copy()\n",
    "states_obe['temp_kmeans'] = categorized_temp\n",
    "# new_graph['Categorized Obesity'] = categorized_obesity"
   ]
  },
  {
   "cell_type": "markdown",
   "metadata": {},
   "source": [
    "#### Categorized Average Temperature & Obesity Rate"
   ]
  },
  {
   "cell_type": "code",
   "execution_count": 22,
   "metadata": {},
   "outputs": [],
   "source": [
    "def temp_categorize(temp):\n",
    "    if temp > 41 and temp <= 52:\n",
    "        return 'low_temp'\n",
    "    elif temp > 52 and temp <= 63:\n",
    "        return 'medium_temp'\n",
    "    elif temp > 63 and temp <= 74:\n",
    "        return 'high_temp'"
   ]
  },
  {
   "cell_type": "code",
   "execution_count": 23,
   "metadata": {},
   "outputs": [],
   "source": [
    "def obe_categorize(obe):\n",
    "    if obe > 0.19 and obe <= 0.24:\n",
    "        return 'low_obe_rate'\n",
    "    elif obe > 0.24 and obe <= 0.29:\n",
    "        return 'medium_obe_rate'\n",
    "    elif obe > 0.29 and obe <= 0.33:\n",
    "        return 'high_obe_rate'"
   ]
  },
  {
   "cell_type": "code",
   "execution_count": 24,
   "metadata": {},
   "outputs": [
    {
     "data": {
      "text/html": [
       "<div>\n",
       "<style scoped>\n",
       "    .dataframe tbody tr th:only-of-type {\n",
       "        vertical-align: middle;\n",
       "    }\n",
       "\n",
       "    .dataframe tbody tr th {\n",
       "        vertical-align: top;\n",
       "    }\n",
       "\n",
       "    .dataframe thead th {\n",
       "        text-align: right;\n",
       "    }\n",
       "</style>\n",
       "<table border=\"1\" class=\"dataframe\">\n",
       "  <thead>\n",
       "    <tr style=\"text-align: right;\">\n",
       "      <th></th>\n",
       "      <th>states</th>\n",
       "      <th>avg_temp</th>\n",
       "      <th>STATEFP</th>\n",
       "      <th>STATENS</th>\n",
       "      <th>AFFGEOID</th>\n",
       "      <th>GEOID</th>\n",
       "      <th>STUSPS</th>\n",
       "      <th>NAME</th>\n",
       "      <th>LSAD</th>\n",
       "      <th>ALAND</th>\n",
       "      <th>AWATER</th>\n",
       "      <th>geometry</th>\n",
       "      <th>States</th>\n",
       "      <th>Obesity Rate</th>\n",
       "      <th>temp_kmeans</th>\n",
       "      <th>temp_category</th>\n",
       "      <th>obesity_category</th>\n",
       "    </tr>\n",
       "  </thead>\n",
       "  <tbody>\n",
       "    <tr>\n",
       "      <th>0</th>\n",
       "      <td>Alabama</td>\n",
       "      <td>66.528302</td>\n",
       "      <td>01</td>\n",
       "      <td>01779775</td>\n",
       "      <td>0400000US01</td>\n",
       "      <td>01</td>\n",
       "      <td>AL</td>\n",
       "      <td>Alabama</td>\n",
       "      <td>00</td>\n",
       "      <td>131174048583</td>\n",
       "      <td>4593327154</td>\n",
       "      <td>MULTIPOLYGON (((-88.05338 30.50699, -88.05109 ...</td>\n",
       "      <td>Alabama</td>\n",
       "      <td>0.315429</td>\n",
       "      <td>1</td>\n",
       "      <td>high_temp</td>\n",
       "      <td>high_obe_rate</td>\n",
       "    </tr>\n",
       "    <tr>\n",
       "      <th>2</th>\n",
       "      <td>Arizona</td>\n",
       "      <td>66.286792</td>\n",
       "      <td>04</td>\n",
       "      <td>01779777</td>\n",
       "      <td>0400000US04</td>\n",
       "      <td>04</td>\n",
       "      <td>AZ</td>\n",
       "      <td>Arizona</td>\n",
       "      <td>00</td>\n",
       "      <td>294198551143</td>\n",
       "      <td>1027337603</td>\n",
       "      <td>POLYGON ((-114.81629 32.50804, -114.81432 32.5...</td>\n",
       "      <td>Arizona</td>\n",
       "      <td>0.247143</td>\n",
       "      <td>1</td>\n",
       "      <td>high_temp</td>\n",
       "      <td>medium_obe_rate</td>\n",
       "    </tr>\n",
       "    <tr>\n",
       "      <th>3</th>\n",
       "      <td>Arkansas</td>\n",
       "      <td>62.308176</td>\n",
       "      <td>05</td>\n",
       "      <td>00068085</td>\n",
       "      <td>0400000US05</td>\n",
       "      <td>05</td>\n",
       "      <td>AR</td>\n",
       "      <td>Arkansas</td>\n",
       "      <td>00</td>\n",
       "      <td>134768872727</td>\n",
       "      <td>2962859592</td>\n",
       "      <td>POLYGON ((-94.61783 36.49941, -94.61765 36.499...</td>\n",
       "      <td>Arkansas</td>\n",
       "      <td>0.305071</td>\n",
       "      <td>1</td>\n",
       "      <td>medium_temp</td>\n",
       "      <td>high_obe_rate</td>\n",
       "    </tr>\n",
       "  </tbody>\n",
       "</table>\n",
       "</div>"
      ],
      "text/plain": [
       "     states   avg_temp STATEFP   STATENS     AFFGEOID GEOID STUSPS      NAME  \\\n",
       "0   Alabama  66.528302      01  01779775  0400000US01    01     AL   Alabama   \n",
       "2   Arizona  66.286792      04  01779777  0400000US04    04     AZ   Arizona   \n",
       "3  Arkansas  62.308176      05  00068085  0400000US05    05     AR  Arkansas   \n",
       "\n",
       "  LSAD         ALAND      AWATER  \\\n",
       "0   00  131174048583  4593327154   \n",
       "2   00  294198551143  1027337603   \n",
       "3   00  134768872727  2962859592   \n",
       "\n",
       "                                            geometry    States  Obesity Rate  \\\n",
       "0  MULTIPOLYGON (((-88.05338 30.50699, -88.05109 ...   Alabama      0.315429   \n",
       "2  POLYGON ((-114.81629 32.50804, -114.81432 32.5...   Arizona      0.247143   \n",
       "3  POLYGON ((-94.61783 36.49941, -94.61765 36.499...  Arkansas      0.305071   \n",
       "\n",
       "   temp_kmeans temp_category obesity_category  \n",
       "0            1     high_temp    high_obe_rate  \n",
       "2            1     high_temp  medium_obe_rate  \n",
       "3            1   medium_temp    high_obe_rate  "
      ]
     },
     "execution_count": 24,
     "metadata": {},
     "output_type": "execute_result"
    }
   ],
   "source": [
    "states_obe['temp_category'] = states_obe.avg_temp.apply(temp_categorize)\n",
    "states_obe['obesity_category'] = states_obe['Obesity Rate'].apply(obe_categorize)\n",
    "states_obe = states_obe[(states_obe.States != 'Alaska') &(states_obe.States != 'Hawaii')]\n",
    "states_bound = states_bound[(states_bound.NAME!= 'Alaska') &(states_bound.NAME != 'Hawaii')]\n",
    "states_obe.head(3)"
   ]
  },
  {
   "cell_type": "code",
   "execution_count": 25,
   "metadata": {},
   "outputs": [],
   "source": [
    "gdf = gpd.GeoDataFrame(states_obe)\n",
    "gdf = gdf.set_geometry('geometry')\n",
    "gdf = gdf.rename({'Obesity Rate':'obe_rate'},axis=1)"
   ]
  },
  {
   "cell_type": "markdown",
   "metadata": {},
   "source": [
    "# Data Analysis & Results (EDA)"
   ]
  },
  {
   "cell_type": "markdown",
   "metadata": {},
   "source": [
    "Carry out EDA on your dataset(s); Describe in this section"
   ]
  },
  {
   "cell_type": "markdown",
   "metadata": {},
   "source": [
    "#### Stats of Datasets "
   ]
  },
  {
   "cell_type": "code",
   "execution_count": 26,
   "metadata": {},
   "outputs": [
    {
     "data": {
      "text/html": [
       "<div>\n",
       "<style scoped>\n",
       "    .dataframe tbody tr th:only-of-type {\n",
       "        vertical-align: middle;\n",
       "    }\n",
       "\n",
       "    .dataframe tbody tr th {\n",
       "        vertical-align: top;\n",
       "    }\n",
       "\n",
       "    .dataframe thead th {\n",
       "        text-align: right;\n",
       "    }\n",
       "</style>\n",
       "<table border=\"1\" class=\"dataframe\">\n",
       "  <thead>\n",
       "    <tr style=\"text-align: right;\">\n",
       "      <th></th>\n",
       "      <th>income</th>\n",
       "      <th>year</th>\n",
       "      <th>obe_rate</th>\n",
       "      <th>unemploy_rate</th>\n",
       "    </tr>\n",
       "  </thead>\n",
       "  <tbody>\n",
       "    <tr>\n",
       "      <th>count</th>\n",
       "      <td>623.000000</td>\n",
       "      <td>623.000000</td>\n",
       "      <td>623.000000</td>\n",
       "      <td>623.000000</td>\n",
       "    </tr>\n",
       "    <tr>\n",
       "      <th>mean</th>\n",
       "      <td>57053.293740</td>\n",
       "      <td>2009.521669</td>\n",
       "      <td>0.266867</td>\n",
       "      <td>6.495059</td>\n",
       "    </tr>\n",
       "    <tr>\n",
       "      <th>std</th>\n",
       "      <td>8634.818387</td>\n",
       "      <td>4.048631</td>\n",
       "      <td>0.040189</td>\n",
       "      <td>2.248750</td>\n",
       "    </tr>\n",
       "    <tr>\n",
       "      <th>min</th>\n",
       "      <td>34085.000000</td>\n",
       "      <td>2003.000000</td>\n",
       "      <td>0.160000</td>\n",
       "      <td>2.759167</td>\n",
       "    </tr>\n",
       "    <tr>\n",
       "      <th>25%</th>\n",
       "      <td>50926.500000</td>\n",
       "      <td>2006.000000</td>\n",
       "      <td>0.239500</td>\n",
       "      <td>4.746602</td>\n",
       "    </tr>\n",
       "    <tr>\n",
       "      <th>50%</th>\n",
       "      <td>56682.000000</td>\n",
       "      <td>2010.000000</td>\n",
       "      <td>0.264000</td>\n",
       "      <td>6.075408</td>\n",
       "    </tr>\n",
       "    <tr>\n",
       "      <th>75%</th>\n",
       "      <td>62495.000000</td>\n",
       "      <td>2013.000000</td>\n",
       "      <td>0.296000</td>\n",
       "      <td>7.821839</td>\n",
       "    </tr>\n",
       "    <tr>\n",
       "      <th>max</th>\n",
       "      <td>80088.000000</td>\n",
       "      <td>2016.000000</td>\n",
       "      <td>0.377000</td>\n",
       "      <td>13.893276</td>\n",
       "    </tr>\n",
       "  </tbody>\n",
       "</table>\n",
       "</div>"
      ],
      "text/plain": [
       "             income         year    obe_rate  unemploy_rate\n",
       "count    623.000000   623.000000  623.000000     623.000000\n",
       "mean   57053.293740  2009.521669    0.266867       6.495059\n",
       "std     8634.818387     4.048631    0.040189       2.248750\n",
       "min    34085.000000  2003.000000    0.160000       2.759167\n",
       "25%    50926.500000  2006.000000    0.239500       4.746602\n",
       "50%    56682.000000  2010.000000    0.264000       6.075408\n",
       "75%    62495.000000  2013.000000    0.296000       7.821839\n",
       "max    80088.000000  2016.000000    0.377000      13.893276"
      ]
     },
     "execution_count": 26,
     "metadata": {},
     "output_type": "execute_result"
    }
   ],
   "source": [
    "years_df.describe()"
   ]
  },
  {
   "cell_type": "code",
   "execution_count": 27,
   "metadata": {},
   "outputs": [
    {
     "data": {
      "text/html": [
       "<div>\n",
       "<style scoped>\n",
       "    .dataframe tbody tr th:only-of-type {\n",
       "        vertical-align: middle;\n",
       "    }\n",
       "\n",
       "    .dataframe tbody tr th {\n",
       "        vertical-align: top;\n",
       "    }\n",
       "\n",
       "    .dataframe thead th {\n",
       "        text-align: right;\n",
       "    }\n",
       "</style>\n",
       "<table border=\"1\" class=\"dataframe\">\n",
       "  <thead>\n",
       "    <tr style=\"text-align: right;\">\n",
       "      <th></th>\n",
       "      <th>obe_rate</th>\n",
       "      <th>total_illness_count</th>\n",
       "      <th>population</th>\n",
       "      <th>mental_percentage</th>\n",
       "    </tr>\n",
       "  </thead>\n",
       "  <tbody>\n",
       "    <tr>\n",
       "      <th>count</th>\n",
       "      <td>48.000000</td>\n",
       "      <td>48.000000</td>\n",
       "      <td>4.800000e+01</td>\n",
       "      <td>48.000000</td>\n",
       "    </tr>\n",
       "    <tr>\n",
       "      <th>mean</th>\n",
       "      <td>0.266899</td>\n",
       "      <td>20004.958333</td>\n",
       "      <td>6.208159e+06</td>\n",
       "      <td>0.008585</td>\n",
       "    </tr>\n",
       "    <tr>\n",
       "      <th>std</th>\n",
       "      <td>0.029376</td>\n",
       "      <td>140.292848</td>\n",
       "      <td>6.946518e+06</td>\n",
       "      <td>0.009058</td>\n",
       "    </tr>\n",
       "    <tr>\n",
       "      <th>min</th>\n",
       "      <td>0.192429</td>\n",
       "      <td>19658.000000</td>\n",
       "      <td>5.636260e+05</td>\n",
       "      <td>0.000537</td>\n",
       "    </tr>\n",
       "    <tr>\n",
       "      <th>25%</th>\n",
       "      <td>0.246679</td>\n",
       "      <td>19916.250000</td>\n",
       "      <td>1.846331e+06</td>\n",
       "      <td>0.003042</td>\n",
       "    </tr>\n",
       "    <tr>\n",
       "      <th>50%</th>\n",
       "      <td>0.269143</td>\n",
       "      <td>19997.500000</td>\n",
       "      <td>4.436370e+06</td>\n",
       "      <td>0.004512</td>\n",
       "    </tr>\n",
       "    <tr>\n",
       "      <th>75%</th>\n",
       "      <td>0.285857</td>\n",
       "      <td>20086.750000</td>\n",
       "      <td>6.591857e+06</td>\n",
       "      <td>0.010847</td>\n",
       "    </tr>\n",
       "    <tr>\n",
       "      <th>max</th>\n",
       "      <td>0.329786</td>\n",
       "      <td>20271.000000</td>\n",
       "      <td>3.725396e+07</td>\n",
       "      <td>0.035958</td>\n",
       "    </tr>\n",
       "  </tbody>\n",
       "</table>\n",
       "</div>"
      ],
      "text/plain": [
       "        obe_rate  total_illness_count    population  mental_percentage\n",
       "count  48.000000            48.000000  4.800000e+01          48.000000\n",
       "mean    0.266899         20004.958333  6.208159e+06           0.008585\n",
       "std     0.029376           140.292848  6.946518e+06           0.009058\n",
       "min     0.192429         19658.000000  5.636260e+05           0.000537\n",
       "25%     0.246679         19916.250000  1.846331e+06           0.003042\n",
       "50%     0.269143         19997.500000  4.436370e+06           0.004512\n",
       "75%     0.285857         20086.750000  6.591857e+06           0.010847\n",
       "max     0.329786         20271.000000  3.725396e+07           0.035958"
      ]
     },
     "execution_count": 27,
     "metadata": {},
     "output_type": "execute_result"
    }
   ],
   "source": [
    "new_merged.describe()"
   ]
  },
  {
   "cell_type": "code",
   "execution_count": 28,
   "metadata": {},
   "outputs": [
    {
     "data": {
      "text/html": [
       "<div>\n",
       "<style scoped>\n",
       "    .dataframe tbody tr th:only-of-type {\n",
       "        vertical-align: middle;\n",
       "    }\n",
       "\n",
       "    .dataframe tbody tr th {\n",
       "        vertical-align: top;\n",
       "    }\n",
       "\n",
       "    .dataframe thead th {\n",
       "        text-align: right;\n",
       "    }\n",
       "</style>\n",
       "<table border=\"1\" class=\"dataframe\">\n",
       "  <thead>\n",
       "    <tr style=\"text-align: right;\">\n",
       "      <th></th>\n",
       "      <th>avg_temp</th>\n",
       "      <th>ALAND</th>\n",
       "      <th>AWATER</th>\n",
       "      <th>Obesity Rate</th>\n",
       "      <th>temp_kmeans</th>\n",
       "    </tr>\n",
       "  </thead>\n",
       "  <tbody>\n",
       "    <tr>\n",
       "      <th>count</th>\n",
       "      <td>47.000000</td>\n",
       "      <td>4.700000e+01</td>\n",
       "      <td>4.700000e+01</td>\n",
       "      <td>47.000000</td>\n",
       "      <td>47.000000</td>\n",
       "    </tr>\n",
       "    <tr>\n",
       "      <th>mean</th>\n",
       "      <td>55.871307</td>\n",
       "      <td>1.624415e+11</td>\n",
       "      <td>9.029394e+09</td>\n",
       "      <td>0.266842</td>\n",
       "      <td>0.702128</td>\n",
       "    </tr>\n",
       "    <tr>\n",
       "      <th>std</th>\n",
       "      <td>7.187311</td>\n",
       "      <td>1.206244e+11</td>\n",
       "      <td>1.613061e+10</td>\n",
       "      <td>0.029691</td>\n",
       "      <td>0.805279</td>\n",
       "    </tr>\n",
       "    <tr>\n",
       "      <th>min</th>\n",
       "      <td>44.675472</td>\n",
       "      <td>2.677780e+09</td>\n",
       "      <td>4.890285e+08</td>\n",
       "      <td>0.192429</td>\n",
       "      <td>0.000000</td>\n",
       "    </tr>\n",
       "    <tr>\n",
       "      <th>25%</th>\n",
       "      <td>51.075047</td>\n",
       "      <td>1.022686e+11</td>\n",
       "      <td>1.676810e+09</td>\n",
       "      <td>0.246214</td>\n",
       "      <td>0.000000</td>\n",
       "    </tr>\n",
       "    <tr>\n",
       "      <th>50%</th>\n",
       "      <td>53.976415</td>\n",
       "      <td>1.402900e+11</td>\n",
       "      <td>3.869209e+09</td>\n",
       "      <td>0.268714</td>\n",
       "      <td>0.000000</td>\n",
       "    </tr>\n",
       "    <tr>\n",
       "      <th>75%</th>\n",
       "      <td>61.259681</td>\n",
       "      <td>2.089921e+11</td>\n",
       "      <td>9.398691e+09</td>\n",
       "      <td>0.286929</td>\n",
       "      <td>1.000000</td>\n",
       "    </tr>\n",
       "    <tr>\n",
       "      <th>max</th>\n",
       "      <td>73.926101</td>\n",
       "      <td>6.766532e+11</td>\n",
       "      <td>1.038859e+11</td>\n",
       "      <td>0.329786</td>\n",
       "      <td>2.000000</td>\n",
       "    </tr>\n",
       "  </tbody>\n",
       "</table>\n",
       "</div>"
      ],
      "text/plain": [
       "        avg_temp         ALAND        AWATER  Obesity Rate  temp_kmeans\n",
       "count  47.000000  4.700000e+01  4.700000e+01     47.000000    47.000000\n",
       "mean   55.871307  1.624415e+11  9.029394e+09      0.266842     0.702128\n",
       "std     7.187311  1.206244e+11  1.613061e+10      0.029691     0.805279\n",
       "min    44.675472  2.677780e+09  4.890285e+08      0.192429     0.000000\n",
       "25%    51.075047  1.022686e+11  1.676810e+09      0.246214     0.000000\n",
       "50%    53.976415  1.402900e+11  3.869209e+09      0.268714     0.000000\n",
       "75%    61.259681  2.089921e+11  9.398691e+09      0.286929     1.000000\n",
       "max    73.926101  6.766532e+11  1.038859e+11      0.329786     2.000000"
      ]
     },
     "execution_count": 28,
     "metadata": {},
     "output_type": "execute_result"
    }
   ],
   "source": [
    "states_obe.describe()"
   ]
  },
  {
   "cell_type": "markdown",
   "metadata": {},
   "source": [
    "#### Geography Graph of Categorized Temperature & Obesity in US"
   ]
  },
  {
   "cell_type": "code",
   "execution_count": 29,
   "metadata": {},
   "outputs": [
    {
     "data": {
      "image/png": "[encoded data removed]",
      "text/plain": [
       "<Figure size 1440x1440 with 1 Axes>"
      ]
     },
     "metadata": {
      "needs_background": "light"
     },
     "output_type": "display_data"
    },
    {
     "data": {
      "image/png": "[encoded data removed]",
      "text/plain": [
       "<Figure size 1440x1440 with 1 Axes>"
      ]
     },
     "metadata": {
      "needs_background": "light"
     },
     "output_type": "display_data"
    }
   ],
   "source": [
    "## YOUR CODE HERE\n",
    "## FEEL FREE TO ADD MULTIPLE CELLS PER SECTION\n",
    "ax1 = gdf.plot(column = 'temp_category', legend = True, markersize=20,figsize = (20,20))\n",
    "ax1.set(title='Average Temperature by States')\n",
    "ax1.set_axis_off()\n",
    "ax2 = gdf.plot(column = 'obesity_category', legend = True, markersize=20,figsize = (20,20))\n",
    "ax2.set(title='Obesity Rate by States')\n",
    "ax2.set_axis_off()"
   ]
  },
  {
   "cell_type": "markdown",
   "metadata": {},
   "source": [
    "#### Obeservation:\n",
    "\n",
    "From the graphs of `Average Temperature by States` and `Obesity Rate by States`, we see that states in the northern United States tend to have medium and low obesity rates, while states with high average temperatures  located in the southern United States appear to have moderate and high obesity rates."
   ]
  },
  {
   "cell_type": "code",
   "execution_count": 30,
   "metadata": {},
   "outputs": [
    {
     "data": {
      "text/html": [
       "<div>\n",
       "<style scoped>\n",
       "    .dataframe tbody tr th:only-of-type {\n",
       "        vertical-align: middle;\n",
       "    }\n",
       "\n",
       "    .dataframe tbody tr th {\n",
       "        vertical-align: top;\n",
       "    }\n",
       "\n",
       "    .dataframe thead th {\n",
       "        text-align: right;\n",
       "    }\n",
       "</style>\n",
       "<table border=\"1\" class=\"dataframe\">\n",
       "  <thead>\n",
       "    <tr style=\"text-align: right;\">\n",
       "      <th></th>\n",
       "      <th>temp_category</th>\n",
       "      <th>states</th>\n",
       "    </tr>\n",
       "  </thead>\n",
       "  <tbody>\n",
       "    <tr>\n",
       "      <th>0</th>\n",
       "      <td>high_temp</td>\n",
       "      <td>8</td>\n",
       "    </tr>\n",
       "    <tr>\n",
       "      <th>1</th>\n",
       "      <td>low_temp</td>\n",
       "      <td>16</td>\n",
       "    </tr>\n",
       "    <tr>\n",
       "      <th>2</th>\n",
       "      <td>medium_temp</td>\n",
       "      <td>23</td>\n",
       "    </tr>\n",
       "  </tbody>\n",
       "</table>\n",
       "</div>"
      ],
      "text/plain": [
       "  temp_category  states\n",
       "0     high_temp       8\n",
       "1      low_temp      16\n",
       "2   medium_temp      23"
      ]
     },
     "execution_count": 30,
     "metadata": {},
     "output_type": "execute_result"
    }
   ],
   "source": [
    "gdf.groupby('temp_category').count().states.to_frame().reset_index()"
   ]
  },
  {
   "cell_type": "code",
   "execution_count": 31,
   "metadata": {},
   "outputs": [
    {
     "data": {
      "text/html": [
       "<div>\n",
       "<style scoped>\n",
       "    .dataframe tbody tr th:only-of-type {\n",
       "        vertical-align: middle;\n",
       "    }\n",
       "\n",
       "    .dataframe tbody tr th {\n",
       "        vertical-align: top;\n",
       "    }\n",
       "\n",
       "    .dataframe thead th {\n",
       "        text-align: right;\n",
       "    }\n",
       "</style>\n",
       "<table border=\"1\" class=\"dataframe\">\n",
       "  <thead>\n",
       "    <tr style=\"text-align: right;\">\n",
       "      <th></th>\n",
       "      <th>obesity_category</th>\n",
       "      <th>states</th>\n",
       "    </tr>\n",
       "  </thead>\n",
       "  <tbody>\n",
       "    <tr>\n",
       "      <th>0</th>\n",
       "      <td>high_obe_rate</td>\n",
       "      <td>11</td>\n",
       "    </tr>\n",
       "    <tr>\n",
       "      <th>1</th>\n",
       "      <td>low_obe_rate</td>\n",
       "      <td>9</td>\n",
       "    </tr>\n",
       "    <tr>\n",
       "      <th>2</th>\n",
       "      <td>medium_obe_rate</td>\n",
       "      <td>27</td>\n",
       "    </tr>\n",
       "  </tbody>\n",
       "</table>\n",
       "</div>"
      ],
      "text/plain": [
       "  obesity_category  states\n",
       "0    high_obe_rate      11\n",
       "1     low_obe_rate       9\n",
       "2  medium_obe_rate      27"
      ]
     },
     "execution_count": 31,
     "metadata": {},
     "output_type": "execute_result"
    }
   ],
   "source": [
    "gdf.groupby('obesity_category').count().states.to_frame().reset_index()"
   ]
  },
  {
   "cell_type": "markdown",
   "metadata": {},
   "source": [
    "#### Bar graph of Count of Average Temperature/ Obesity Rate categories by States"
   ]
  },
  {
   "cell_type": "code",
   "execution_count": 32,
   "metadata": {},
   "outputs": [
    {
     "data": {
      "text/plain": [
       "[Text(0.5, 1.0, 'Count of Obesity Rate categories by States')]"
      ]
     },
     "execution_count": 32,
     "metadata": {},
     "output_type": "execute_result"
    },
    {
     "data": {
      "image/png": "[encoded data removed]",
      "text/plain": [
       "<Figure size 720x720 with 2 Axes>"
      ]
     },
     "metadata": {
      "needs_background": "light"
     },
     "output_type": "display_data"
    }
   ],
   "source": [
    "fig, (ax1, ax2) = plt.subplots(ncols = 2, sharey = True)\n",
    "fig.set_figheight(10)\n",
    "fig.set_figwidth(10)\n",
    "sns.countplot(x='temp_category',data=gdf, ax = ax1)\n",
    "sns.countplot(x='obesity_category',data=gdf, ax = ax2)\n",
    "ax1.set(title='Count of temperature categories by States')\n",
    "ax2.set(title='Count of Obesity Rate categories by States')"
   ]
  },
  {
   "cell_type": "markdown",
   "metadata": {},
   "source": [
    "#### Scatterplot of `Relationship between Obesity Rate and States Average Temperature`"
   ]
  },
  {
   "cell_type": "code",
   "execution_count": 33,
   "metadata": {},
   "outputs": [
    {
     "data": {
      "text/plain": [
       "<seaborn.axisgrid.FacetGrid at 0x7ff2f960eb90>"
      ]
     },
     "execution_count": 33,
     "metadata": {},
     "output_type": "execute_result"
    },
    {
     "data": {
      "image/png": "[encoded data removed]",
      "text/plain": [
       "<Figure size 1080x360 with 1 Axes>"
      ]
     },
     "metadata": {
      "needs_background": "light"
     },
     "output_type": "display_data"
    }
   ],
   "source": [
    "ax = sns.lmplot(x = 'avg_temp',\n",
    "           y = 'obe_rate',\n",
    "           data = gdf,aspect = 3)\n",
    "ax.set(title = 'Relationship between Obesity Rate and States Average Temperature')"
   ]
  },
  {
   "cell_type": "markdown",
   "metadata": {},
   "source": [
    "#### Obeservation:\n",
    "\n",
    "From the scatterplot `Relationship between Obesity Rate and States Average Temperature`, we see there is a positive relationship between Obesity Rate and States Average Temperature."
   ]
  },
  {
   "cell_type": "markdown",
   "metadata": {},
   "source": [
    "#### OLS of States Average Temperature  and States Average Obesity Rate"
   ]
  },
  {
   "cell_type": "code",
   "execution_count": 34,
   "metadata": {},
   "outputs": [
    {
     "data": {
      "text/html": [
       "<table class=\"simpletable\">\n",
       "<caption>OLS Regression Results</caption>\n",
       "<tr>\n",
       "  <th>Dep. Variable:</th>        <td>obe_rate</td>     <th>  R-squared:         </th> <td>   0.176</td>\n",
       "</tr>\n",
       "<tr>\n",
       "  <th>Model:</th>                   <td>OLS</td>       <th>  Adj. R-squared:    </th> <td>   0.158</td>\n",
       "</tr>\n",
       "<tr>\n",
       "  <th>Method:</th>             <td>Least Squares</td>  <th>  F-statistic:       </th> <td>   9.640</td>\n",
       "</tr>\n",
       "<tr>\n",
       "  <th>Date:</th>             <td>Sat, 12 Mar 2022</td> <th>  Prob (F-statistic):</th>  <td>0.00329</td>\n",
       "</tr>\n",
       "<tr>\n",
       "  <th>Time:</th>                 <td>15:09:50</td>     <th>  Log-Likelihood:    </th> <td>  103.67</td>\n",
       "</tr>\n",
       "<tr>\n",
       "  <th>No. Observations:</th>      <td>    47</td>      <th>  AIC:               </th> <td>  -203.3</td>\n",
       "</tr>\n",
       "<tr>\n",
       "  <th>Df Residuals:</th>          <td>    45</td>      <th>  BIC:               </th> <td>  -199.6</td>\n",
       "</tr>\n",
       "<tr>\n",
       "  <th>Df Model:</th>              <td>     1</td>      <th>                     </th>     <td> </td>   \n",
       "</tr>\n",
       "<tr>\n",
       "  <th>Covariance Type:</th>      <td>nonrobust</td>    <th>                     </th>     <td> </td>   \n",
       "</tr>\n",
       "</table>\n",
       "<table class=\"simpletable\">\n",
       "<tr>\n",
       "      <td></td>         <th>coef</th>     <th>std err</th>      <th>t</th>      <th>P>|t|</th>  <th>[0.025</th>    <th>0.975]</th>  \n",
       "</tr>\n",
       "<tr>\n",
       "  <th>Intercept</th> <td>    0.1699</td> <td>    0.031</td> <td>    5.398</td> <td> 0.000</td> <td>    0.106</td> <td>    0.233</td>\n",
       "</tr>\n",
       "<tr>\n",
       "  <th>avg_temp</th>  <td>    0.0017</td> <td>    0.001</td> <td>    3.105</td> <td> 0.003</td> <td>    0.001</td> <td>    0.003</td>\n",
       "</tr>\n",
       "</table>\n",
       "<table class=\"simpletable\">\n",
       "<tr>\n",
       "  <th>Omnibus:</th>       <td> 1.411</td> <th>  Durbin-Watson:     </th> <td>   1.643</td>\n",
       "</tr>\n",
       "<tr>\n",
       "  <th>Prob(Omnibus):</th> <td> 0.494</td> <th>  Jarque-Bera (JB):  </th> <td>   1.408</td>\n",
       "</tr>\n",
       "<tr>\n",
       "  <th>Skew:</th>          <td>-0.358</td> <th>  Prob(JB):          </th> <td>   0.495</td>\n",
       "</tr>\n",
       "<tr>\n",
       "  <th>Kurtosis:</th>      <td> 2.546</td> <th>  Cond. No.          </th> <td>    446.</td>\n",
       "</tr>\n",
       "</table><br/><br/>Warnings:<br/>[1] Standard Errors assume that the covariance matrix of the errors is correctly specified."
      ],
      "text/plain": [
       "<class 'statsmodels.iolib.summary.Summary'>\n",
       "\"\"\"\n",
       "                            OLS Regression Results                            \n",
       "==============================================================================\n",
       "Dep. Variable:               obe_rate   R-squared:                       0.176\n",
       "Model:                            OLS   Adj. R-squared:                  0.158\n",
       "Method:                 Least Squares   F-statistic:                     9.640\n",
       "Date:                Sat, 12 Mar 2022   Prob (F-statistic):            0.00329\n",
       "Time:                        15:09:50   Log-Likelihood:                 103.67\n",
       "No. Observations:                  47   AIC:                            -203.3\n",
       "Df Residuals:                      45   BIC:                            -199.6\n",
       "Df Model:                           1                                         \n",
       "Covariance Type:            nonrobust                                         \n",
       "==============================================================================\n",
       "                 coef    std err          t      P>|t|      [0.025      0.975]\n",
       "------------------------------------------------------------------------------\n",
       "Intercept      0.1699      0.031      5.398      0.000       0.106       0.233\n",
       "avg_temp       0.0017      0.001      3.105      0.003       0.001       0.003\n",
       "==============================================================================\n",
       "Omnibus:                        1.411   Durbin-Watson:                   1.643\n",
       "Prob(Omnibus):                  0.494   Jarque-Bera (JB):                1.408\n",
       "Skew:                          -0.358   Prob(JB):                        0.495\n",
       "Kurtosis:                       2.546   Cond. No.                         446.\n",
       "==============================================================================\n",
       "\n",
       "Warnings:\n",
       "[1] Standard Errors assume that the covariance matrix of the errors is correctly specified.\n",
       "\"\"\""
      ]
     },
     "execution_count": 34,
     "metadata": {},
     "output_type": "execute_result"
    }
   ],
   "source": [
    "outcome_1,predictors_1 = patsy.dmatrices('obe_rate ~ avg_temp',gdf)\n",
    "mod_1= sm.OLS(outcome_1,predictors_1)\n",
    "res_1 = mod_1.fit()\n",
    "res_1.summary()"
   ]
  },
  {
   "cell_type": "markdown",
   "metadata": {},
   "source": [
    "#### Obeservation: \n",
    "\n",
    "Above OLS tells us the relationship between the average temperature from each state and average obesity rate. We use average temperature as independent variable and average obesity rate as dependent variable. The coefficient of average temperature is positive and its p-value is below $\\alpha = 0.05%$ indicating the result is significant, showing that there is a positive relationship between the average temperature and average obesity rate in US."
   ]
  },
  {
   "cell_type": "markdown",
   "metadata": {},
   "source": [
    "#### Bar Graph of  `Mental illness percentage by State`"
   ]
  },
  {
   "cell_type": "code",
   "execution_count": 35,
   "metadata": {},
   "outputs": [
    {
     "data": {
      "text/plain": [
       "[Text(0.5, 1.0, 'States and mental illness percentage')]"
      ]
     },
     "execution_count": 35,
     "metadata": {},
     "output_type": "execute_result"
    },
    {
     "data": {
      "image/png": "[encoded data removed]",
      "text/plain": [
       "<Figure size 432x288 with 1 Axes>"
      ]
     },
     "metadata": {
      "needs_background": "light"
     },
     "output_type": "display_data"
    }
   ],
   "source": [
    "ax = sns.barplot(y = 'states', x = 'mental_percentage',data = new_merged)\n",
    "ax.set(title = 'States and mental illness percentage')"
   ]
  },
  {
   "cell_type": "markdown",
   "metadata": {},
   "source": [
    "#### Scatterplot of `Obesity Rate and States mental illness rate`"
   ]
  },
  {
   "cell_type": "code",
   "execution_count": 36,
   "metadata": {},
   "outputs": [
    {
     "data": {
      "text/plain": [
       "<seaborn.axisgrid.FacetGrid at 0x7ff2fe6120d0>"
      ]
     },
     "execution_count": 36,
     "metadata": {},
     "output_type": "execute_result"
    },
    {
     "data": {
      "image/png": "[encoded data removed]",
      "text/plain": [
       "<Figure size 1080x360 with 1 Axes>"
      ]
     },
     "metadata": {
      "needs_background": "light"
     },
     "output_type": "display_data"
    }
   ],
   "source": [
    "ax = sns.lmplot(x = 'mental_percentage',\n",
    "                y = 'obe_rate',\n",
    "                data = new_merged,\n",
    "                aspect = 3)\n",
    "\n",
    "ax.set(title = 'Relationship between Obesity Rate and States mental illness rate')"
   ]
  },
  {
   "cell_type": "markdown",
   "metadata": {},
   "source": [
    "#### Obeservation:\n",
    "\n",
    "From the scatterplot `Relationship between Obesity Rate and States mental illness rate`, we see there is a relative negative relationship between Obesity Rate and States mental_percentage."
   ]
  },
  {
   "cell_type": "markdown",
   "metadata": {},
   "source": [
    "#### OLS of States Average Obesity Rate and States Mental Pct"
   ]
  },
  {
   "cell_type": "code",
   "execution_count": 37,
   "metadata": {},
   "outputs": [
    {
     "data": {
      "text/html": [
       "<table class=\"simpletable\">\n",
       "<caption>OLS Regression Results</caption>\n",
       "<tr>\n",
       "  <th>Dep. Variable:</th>        <td>obe_rate</td>     <th>  R-squared:         </th> <td>   0.032</td>\n",
       "</tr>\n",
       "<tr>\n",
       "  <th>Model:</th>                   <td>OLS</td>       <th>  Adj. R-squared:    </th> <td>   0.011</td>\n",
       "</tr>\n",
       "<tr>\n",
       "  <th>Method:</th>             <td>Least Squares</td>  <th>  F-statistic:       </th> <td>   1.500</td>\n",
       "</tr>\n",
       "<tr>\n",
       "  <th>Date:</th>             <td>Sat, 12 Mar 2022</td> <th>  Prob (F-statistic):</th>  <td> 0.227</td> \n",
       "</tr>\n",
       "<tr>\n",
       "  <th>Time:</th>                 <td>15:09:51</td>     <th>  Log-Likelihood:    </th> <td>  102.49</td>\n",
       "</tr>\n",
       "<tr>\n",
       "  <th>No. Observations:</th>      <td>    48</td>      <th>  AIC:               </th> <td>  -201.0</td>\n",
       "</tr>\n",
       "<tr>\n",
       "  <th>Df Residuals:</th>          <td>    46</td>      <th>  BIC:               </th> <td>  -197.2</td>\n",
       "</tr>\n",
       "<tr>\n",
       "  <th>Df Model:</th>              <td>     1</td>      <th>                     </th>     <td> </td>   \n",
       "</tr>\n",
       "<tr>\n",
       "  <th>Covariance Type:</th>      <td>nonrobust</td>    <th>                     </th>     <td> </td>   \n",
       "</tr>\n",
       "</table>\n",
       "<table class=\"simpletable\">\n",
       "<tr>\n",
       "          <td></td>             <th>coef</th>     <th>std err</th>      <th>t</th>      <th>P>|t|</th>  <th>[0.025</th>    <th>0.975]</th>  \n",
       "</tr>\n",
       "<tr>\n",
       "  <th>Intercept</th>         <td>    0.2718</td> <td>    0.006</td> <td>   46.547</td> <td> 0.000</td> <td>    0.260</td> <td>    0.284</td>\n",
       "</tr>\n",
       "<tr>\n",
       "  <th>mental_percentage</th> <td>   -0.5763</td> <td>    0.471</td> <td>   -1.225</td> <td> 0.227</td> <td>   -1.523</td> <td>    0.371</td>\n",
       "</tr>\n",
       "</table>\n",
       "<table class=\"simpletable\">\n",
       "<tr>\n",
       "  <th>Omnibus:</th>       <td> 0.438</td> <th>  Durbin-Watson:     </th> <td>   1.747</td>\n",
       "</tr>\n",
       "<tr>\n",
       "  <th>Prob(Omnibus):</th> <td> 0.803</td> <th>  Jarque-Bera (JB):  </th> <td>   0.287</td>\n",
       "</tr>\n",
       "<tr>\n",
       "  <th>Skew:</th>          <td>-0.186</td> <th>  Prob(JB):          </th> <td>   0.866</td>\n",
       "</tr>\n",
       "<tr>\n",
       "  <th>Kurtosis:</th>      <td> 2.929</td> <th>  Cond. No.          </th> <td>    112.</td>\n",
       "</tr>\n",
       "</table><br/><br/>Warnings:<br/>[1] Standard Errors assume that the covariance matrix of the errors is correctly specified."
      ],
      "text/plain": [
       "<class 'statsmodels.iolib.summary.Summary'>\n",
       "\"\"\"\n",
       "                            OLS Regression Results                            \n",
       "==============================================================================\n",
       "Dep. Variable:               obe_rate   R-squared:                       0.032\n",
       "Model:                            OLS   Adj. R-squared:                  0.011\n",
       "Method:                 Least Squares   F-statistic:                     1.500\n",
       "Date:                Sat, 12 Mar 2022   Prob (F-statistic):              0.227\n",
       "Time:                        15:09:51   Log-Likelihood:                 102.49\n",
       "No. Observations:                  48   AIC:                            -201.0\n",
       "Df Residuals:                      46   BIC:                            -197.2\n",
       "Df Model:                           1                                         \n",
       "Covariance Type:            nonrobust                                         \n",
       "=====================================================================================\n",
       "                        coef    std err          t      P>|t|      [0.025      0.975]\n",
       "-------------------------------------------------------------------------------------\n",
       "Intercept             0.2718      0.006     46.547      0.000       0.260       0.284\n",
       "mental_percentage    -0.5763      0.471     -1.225      0.227      -1.523       0.371\n",
       "==============================================================================\n",
       "Omnibus:                        0.438   Durbin-Watson:                   1.747\n",
       "Prob(Omnibus):                  0.803   Jarque-Bera (JB):                0.287\n",
       "Skew:                          -0.186   Prob(JB):                        0.866\n",
       "Kurtosis:                       2.929   Cond. No.                         112.\n",
       "==============================================================================\n",
       "\n",
       "Warnings:\n",
       "[1] Standard Errors assume that the covariance matrix of the errors is correctly specified.\n",
       "\"\"\""
      ]
     },
     "execution_count": 37,
     "metadata": {},
     "output_type": "execute_result"
    }
   ],
   "source": [
    "outcome_2,predictors_2 = patsy.dmatrices('obe_rate ~ mental_percentage', new_merged)\n",
    "mod_2= sm.OLS(outcome_2,predictors_2)\n",
    "res_2 = mod_2.fit()\n",
    "res_2.summary()"
   ]
  },
  {
   "cell_type": "markdown",
   "metadata": {},
   "source": [
    "#### Obeservation: \n",
    "\n",
    "Above OLS tells us the relationship between the States Mental illness percentage and average obesity rate. We use States Mental illness percentage as independent variable and average obesity rate as dependent variable. The coefficient of average temperature is negative and its p-value is larger than $\\alpha = 5\\%$ indicating the result is `not significant`, showing that there might be a negative relationship between the States Mental illness percentage and States average obesity rate while is result is not significant."
   ]
  },
  {
   "cell_type": "markdown",
   "metadata": {},
   "source": [
    "#### Scatter Plot of `Relationship between Unemployment Rate and Obesity Rate by States`"
   ]
  },
  {
   "cell_type": "code",
   "execution_count": 38,
   "metadata": {},
   "outputs": [
    {
     "data": {
      "text/plain": [
       "Text(0.5, 0.98, 'Relationship between Unemployment Rate and Obesity Rate by States')"
      ]
     },
     "execution_count": 38,
     "metadata": {},
     "output_type": "execute_result"
    },
    {
     "data": {
      "image/png": "[encoded data removed]",
      "text/plain": [
       "<Figure size 1080x360 with 1 Axes>"
      ]
     },
     "metadata": {
      "needs_background": "light"
     },
     "output_type": "display_data"
    }
   ],
   "source": [
    "grouped_year = years_df.groupby('state').mean()\n",
    "grouped_year = grouped_year.reset_index()\n",
    "sns.lmplot(x = 'unemploy_rate', y = 'obe_rate',data = grouped_year, fit_reg=True, aspect = 3)\\\n",
    "                    .fig.suptitle(\"Relationship between Unemployment Rate and Obesity Rate by States\")\n"
   ]
  },
  {
   "cell_type": "markdown",
   "metadata": {},
   "source": [
    "#### Obeservation: \n",
    "\n",
    "From the scatterplot `Relationship between Unemployment Rate and Obesity Rate by States`, we see there is a relative positive relationship between States Unemployment Rate and States Obesity Rate."
   ]
  },
  {
   "cell_type": "markdown",
   "metadata": {},
   "source": [
    "#### OLS of States Average Obesity Rate and States Unemployment Rate"
   ]
  },
  {
   "cell_type": "code",
   "execution_count": 39,
   "metadata": {},
   "outputs": [
    {
     "data": {
      "text/html": [
       "<table class=\"simpletable\">\n",
       "<caption>OLS Regression Results</caption>\n",
       "<tr>\n",
       "  <th>Dep. Variable:</th>        <td>obe_rate</td>     <th>  R-squared:         </th> <td>   0.088</td>\n",
       "</tr>\n",
       "<tr>\n",
       "  <th>Model:</th>                   <td>OLS</td>       <th>  Adj. R-squared:    </th> <td>   0.067</td>\n",
       "</tr>\n",
       "<tr>\n",
       "  <th>Method:</th>             <td>Least Squares</td>  <th>  F-statistic:       </th> <td>   4.161</td>\n",
       "</tr>\n",
       "<tr>\n",
       "  <th>Date:</th>             <td>Sat, 12 Mar 2022</td> <th>  Prob (F-statistic):</th>  <td>0.0475</td> \n",
       "</tr>\n",
       "<tr>\n",
       "  <th>Time:</th>                 <td>15:09:51</td>     <th>  Log-Likelihood:    </th> <td>  96.111</td>\n",
       "</tr>\n",
       "<tr>\n",
       "  <th>No. Observations:</th>      <td>    45</td>      <th>  AIC:               </th> <td>  -188.2</td>\n",
       "</tr>\n",
       "<tr>\n",
       "  <th>Df Residuals:</th>          <td>    43</td>      <th>  BIC:               </th> <td>  -184.6</td>\n",
       "</tr>\n",
       "<tr>\n",
       "  <th>Df Model:</th>              <td>     1</td>      <th>                     </th>     <td> </td>   \n",
       "</tr>\n",
       "<tr>\n",
       "  <th>Covariance Type:</th>      <td>nonrobust</td>    <th>                     </th>     <td> </td>   \n",
       "</tr>\n",
       "</table>\n",
       "<table class=\"simpletable\">\n",
       "<tr>\n",
       "        <td></td>           <th>coef</th>     <th>std err</th>      <th>t</th>      <th>P>|t|</th>  <th>[0.025</th>    <th>0.975]</th>  \n",
       "</tr>\n",
       "<tr>\n",
       "  <th>Intercept</th>     <td>    0.2283</td> <td>    0.020</td> <td>   11.687</td> <td> 0.000</td> <td>    0.189</td> <td>    0.268</td>\n",
       "</tr>\n",
       "<tr>\n",
       "  <th>unemploy_rate</th> <td>    0.0060</td> <td>    0.003</td> <td>    2.040</td> <td> 0.048</td> <td> 6.77e-05</td> <td>    0.012</td>\n",
       "</tr>\n",
       "</table>\n",
       "<table class=\"simpletable\">\n",
       "<tr>\n",
       "  <th>Omnibus:</th>       <td> 1.875</td> <th>  Durbin-Watson:     </th> <td>   1.879</td>\n",
       "</tr>\n",
       "<tr>\n",
       "  <th>Prob(Omnibus):</th> <td> 0.392</td> <th>  Jarque-Bera (JB):  </th> <td>   1.501</td>\n",
       "</tr>\n",
       "<tr>\n",
       "  <th>Skew:</th>          <td>-0.273</td> <th>  Prob(JB):          </th> <td>   0.472</td>\n",
       "</tr>\n",
       "<tr>\n",
       "  <th>Kurtosis:</th>      <td> 2.291</td> <th>  Cond. No.          </th> <td>    30.5</td>\n",
       "</tr>\n",
       "</table><br/><br/>Warnings:<br/>[1] Standard Errors assume that the covariance matrix of the errors is correctly specified."
      ],
      "text/plain": [
       "<class 'statsmodels.iolib.summary.Summary'>\n",
       "\"\"\"\n",
       "                            OLS Regression Results                            \n",
       "==============================================================================\n",
       "Dep. Variable:               obe_rate   R-squared:                       0.088\n",
       "Model:                            OLS   Adj. R-squared:                  0.067\n",
       "Method:                 Least Squares   F-statistic:                     4.161\n",
       "Date:                Sat, 12 Mar 2022   Prob (F-statistic):             0.0475\n",
       "Time:                        15:09:51   Log-Likelihood:                 96.111\n",
       "No. Observations:                  45   AIC:                            -188.2\n",
       "Df Residuals:                      43   BIC:                            -184.6\n",
       "Df Model:                           1                                         \n",
       "Covariance Type:            nonrobust                                         \n",
       "=================================================================================\n",
       "                    coef    std err          t      P>|t|      [0.025      0.975]\n",
       "---------------------------------------------------------------------------------\n",
       "Intercept         0.2283      0.020     11.687      0.000       0.189       0.268\n",
       "unemploy_rate     0.0060      0.003      2.040      0.048    6.77e-05       0.012\n",
       "==============================================================================\n",
       "Omnibus:                        1.875   Durbin-Watson:                   1.879\n",
       "Prob(Omnibus):                  0.392   Jarque-Bera (JB):                1.501\n",
       "Skew:                          -0.273   Prob(JB):                        0.472\n",
       "Kurtosis:                       2.291   Cond. No.                         30.5\n",
       "==============================================================================\n",
       "\n",
       "Warnings:\n",
       "[1] Standard Errors assume that the covariance matrix of the errors is correctly specified.\n",
       "\"\"\""
      ]
     },
     "execution_count": 39,
     "metadata": {},
     "output_type": "execute_result"
    }
   ],
   "source": [
    "outcome_3,predictors_3 = patsy.dmatrices('obe_rate ~ unemploy_rate',grouped_year)\n",
    "mod_3= sm.OLS(outcome_3,predictors_3)\n",
    "res_3 = mod_3.fit()\n",
    "res_3.summary()"
   ]
  },
  {
   "cell_type": "markdown",
   "metadata": {},
   "source": [
    "#### observation:\n",
    "\n",
    "The OLS tells us the relationship between the average unemployment rate and average obesity rate from 2003 - 2016. The p value is smaller than $\\alpha = 5\\%$ , and the coefficient is positive, so we claim that the result is statistically significant, which means there exisits a positive relationship between the average unemployment rate and average obesity rate in US."
   ]
  },
  {
   "cell_type": "markdown",
   "metadata": {},
   "source": [
    "#### Scatter Plot of ``Relationship between Income and Obesity Rate by States\n"
   ]
  },
  {
   "cell_type": "code",
   "execution_count": 40,
   "metadata": {},
   "outputs": [
    {
     "data": {
      "image/png": "[encoded data removed]",
      "text/plain": [
       "<Figure size 1080x360 with 1 Axes>"
      ]
     },
     "metadata": {
      "needs_background": "light"
     },
     "output_type": "display_data"
    }
   ],
   "source": [
    "group_income = years_df.groupby('state').mean()\n",
    "group_income = group_income.reset_index()\n",
    "incomeplot = sns.lmplot(x = 'income',y='obe_rate', data = group_income, fit_reg = True,aspect = 3)\\\n",
    "                    .fig.suptitle(\"Relationship between Income and Obesity Rate by States\")"
   ]
  },
  {
   "cell_type": "markdown",
   "metadata": {},
   "source": [
    "####  Obeservation: \n",
    "\n",
    "From the scatterplot `Relationship between Income and Obesity Rate by States`, we see there is a relative negative relationship between States Unemployment Rate and States Obesity Rate."
   ]
  },
  {
   "cell_type": "markdown",
   "metadata": {},
   "source": [
    "#### OLS of States Average Obesity Rate and Average States income"
   ]
  },
  {
   "cell_type": "code",
   "execution_count": 41,
   "metadata": {},
   "outputs": [
    {
     "data": {
      "text/html": [
       "<table class=\"simpletable\">\n",
       "<caption>OLS Regression Results</caption>\n",
       "<tr>\n",
       "  <th>Dep. Variable:</th>        <td>obe_rate</td>     <th>  R-squared:         </th> <td>   0.489</td>\n",
       "</tr>\n",
       "<tr>\n",
       "  <th>Model:</th>                   <td>OLS</td>       <th>  Adj. R-squared:    </th> <td>   0.477</td>\n",
       "</tr>\n",
       "<tr>\n",
       "  <th>Method:</th>             <td>Least Squares</td>  <th>  F-statistic:       </th> <td>   41.10</td>\n",
       "</tr>\n",
       "<tr>\n",
       "  <th>Date:</th>             <td>Sat, 12 Mar 2022</td> <th>  Prob (F-statistic):</th> <td>9.23e-08</td>\n",
       "</tr>\n",
       "<tr>\n",
       "  <th>Time:</th>                 <td>15:09:52</td>     <th>  Log-Likelihood:    </th> <td>  109.13</td>\n",
       "</tr>\n",
       "<tr>\n",
       "  <th>No. Observations:</th>      <td>    45</td>      <th>  AIC:               </th> <td>  -214.3</td>\n",
       "</tr>\n",
       "<tr>\n",
       "  <th>Df Residuals:</th>          <td>    43</td>      <th>  BIC:               </th> <td>  -210.6</td>\n",
       "</tr>\n",
       "<tr>\n",
       "  <th>Df Model:</th>              <td>     1</td>      <th>                     </th>     <td> </td>   \n",
       "</tr>\n",
       "<tr>\n",
       "  <th>Covariance Type:</th>      <td>nonrobust</td>    <th>                     </th>     <td> </td>   \n",
       "</tr>\n",
       "</table>\n",
       "<table class=\"simpletable\">\n",
       "<tr>\n",
       "      <td></td>         <th>coef</th>     <th>std err</th>      <th>t</th>      <th>P>|t|</th>  <th>[0.025</th>    <th>0.975]</th>  \n",
       "</tr>\n",
       "<tr>\n",
       "  <th>Intercept</th> <td>    0.4132</td> <td>    0.023</td> <td>   17.960</td> <td> 0.000</td> <td>    0.367</td> <td>    0.460</td>\n",
       "</tr>\n",
       "<tr>\n",
       "  <th>income</th>    <td>-2.561e-06</td> <td> 3.99e-07</td> <td>   -6.411</td> <td> 0.000</td> <td>-3.37e-06</td> <td>-1.76e-06</td>\n",
       "</tr>\n",
       "</table>\n",
       "<table class=\"simpletable\">\n",
       "<tr>\n",
       "  <th>Omnibus:</th>       <td> 5.321</td> <th>  Durbin-Watson:     </th> <td>   2.402</td>\n",
       "</tr>\n",
       "<tr>\n",
       "  <th>Prob(Omnibus):</th> <td> 0.070</td> <th>  Jarque-Bera (JB):  </th> <td>   4.497</td>\n",
       "</tr>\n",
       "<tr>\n",
       "  <th>Skew:</th>          <td>-0.767</td> <th>  Prob(JB):          </th> <td>   0.106</td>\n",
       "</tr>\n",
       "<tr>\n",
       "  <th>Kurtosis:</th>      <td> 3.207</td> <th>  Cond. No.          </th> <td>4.06e+05</td>\n",
       "</tr>\n",
       "</table><br/><br/>Warnings:<br/>[1] Standard Errors assume that the covariance matrix of the errors is correctly specified.<br/>[2] The condition number is large, 4.06e+05. This might indicate that there are<br/>strong multicollinearity or other numerical problems."
      ],
      "text/plain": [
       "<class 'statsmodels.iolib.summary.Summary'>\n",
       "\"\"\"\n",
       "                            OLS Regression Results                            \n",
       "==============================================================================\n",
       "Dep. Variable:               obe_rate   R-squared:                       0.489\n",
       "Model:                            OLS   Adj. R-squared:                  0.477\n",
       "Method:                 Least Squares   F-statistic:                     41.10\n",
       "Date:                Sat, 12 Mar 2022   Prob (F-statistic):           9.23e-08\n",
       "Time:                        15:09:52   Log-Likelihood:                 109.13\n",
       "No. Observations:                  45   AIC:                            -214.3\n",
       "Df Residuals:                      43   BIC:                            -210.6\n",
       "Df Model:                           1                                         \n",
       "Covariance Type:            nonrobust                                         \n",
       "==============================================================================\n",
       "                 coef    std err          t      P>|t|      [0.025      0.975]\n",
       "------------------------------------------------------------------------------\n",
       "Intercept      0.4132      0.023     17.960      0.000       0.367       0.460\n",
       "income     -2.561e-06   3.99e-07     -6.411      0.000   -3.37e-06   -1.76e-06\n",
       "==============================================================================\n",
       "Omnibus:                        5.321   Durbin-Watson:                   2.402\n",
       "Prob(Omnibus):                  0.070   Jarque-Bera (JB):                4.497\n",
       "Skew:                          -0.767   Prob(JB):                        0.106\n",
       "Kurtosis:                       3.207   Cond. No.                     4.06e+05\n",
       "==============================================================================\n",
       "\n",
       "Warnings:\n",
       "[1] Standard Errors assume that the covariance matrix of the errors is correctly specified.\n",
       "[2] The condition number is large, 4.06e+05. This might indicate that there are\n",
       "strong multicollinearity or other numerical problems.\n",
       "\"\"\""
      ]
     },
     "execution_count": 41,
     "metadata": {},
     "output_type": "execute_result"
    }
   ],
   "source": [
    "outcome_4,predictors_4 = patsy.dmatrices('obe_rate ~ income', group_income)\n",
    "mod_4= sm.OLS(outcome_4,predictors_4)\n",
    "res_4 = mod_4.fit()\n",
    "res_4.summary()"
   ]
  },
  {
   "cell_type": "markdown",
   "metadata": {},
   "source": [
    "#### observation:\n",
    "\n",
    "Above OLS tells us the relationship between the Average States Income percentage and Average State Obesity rate. We use Average States Income percentage as independent variable and average obesity rate as dependent variable. The coefficient of Average States Income percentage is negative and its p-value is less than $\\alpha = 1\\%$ indicating the result is `very significant`, showing that there is be a negative relationship between the Average States Income and Average States Obesity rate, implying people care more about their body build as they get richer."
   ]
  }
 ],
 "metadata": {
  "kernelspec": {
   "display_name": "Python 3",
   "language": "python",
   "name": "python3"
  },
  "language_info": {
   "codemirror_mode": {
    "name": "ipython",
    "version": 3
   },
   "file_extension": ".py",
   "mimetype": "text/x-python",
   "name": "python",
   "nbconvert_exporter": "python",
   "pygments_lexer": "ipython3",
   "version": "3.7.6"
  }
 },
 "nbformat": 4,
 "nbformat_minor": 2
}
